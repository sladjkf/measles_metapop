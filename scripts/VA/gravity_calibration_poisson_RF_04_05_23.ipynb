{
 "cells": [
  {
   "cell_type": "markdown",
   "id": "64efbd4c-a4da-48f4-9347-bb1b184fd379",
   "metadata": {},
   "source": [
    "# Gravity calibration revisited\n",
    "\n",
    "previous gravity calibration had bad zipcodes and did ad-hoc linearization via logs. can we do better? it's also not extremely hard to take the gradient"
   ]
  },
  {
   "cell_type": "code",
   "execution_count": 1,
   "id": "fbe06d33-8f8f-42d1-abc2-aad8f0d407e3",
   "metadata": {},
   "outputs": [],
   "source": [
    "import pandas as pd\n",
    "import numpy as np\n",
    "import matplotlib.pyplot as plt"
   ]
  },
  {
   "cell_type": "code",
   "execution_count": 2,
   "id": "d9617932-4fc1-4899-b159-2d087fa3be0d",
   "metadata": {},
   "outputs": [
    {
     "name": "stdout",
     "output_type": "stream",
     "text": [
      "/home/nick/Documents/4tb_sync/UVA GDrive/Summer 2022 (C4GC with BII)/measles_metapop\n"
     ]
    }
   ],
   "source": [
    "%cd ../.."
   ]
  },
  {
   "cell_type": "code",
   "execution_count": 3,
   "id": "bf83aa36-170b-4bfd-ac36-2207ad580c6a",
   "metadata": {},
   "outputs": [
    {
     "data": {
      "text/html": [
       "<div>\n",
       "<style scoped>\n",
       "    .dataframe tbody tr th:only-of-type {\n",
       "        vertical-align: middle;\n",
       "    }\n",
       "\n",
       "    .dataframe tbody tr th {\n",
       "        vertical-align: top;\n",
       "    }\n",
       "\n",
       "    .dataframe thead th {\n",
       "        text-align: right;\n",
       "    }\n",
       "</style>\n",
       "<table border=\"1\" class=\"dataframe\">\n",
       "  <thead>\n",
       "    <tr style=\"text-align: right;\">\n",
       "      <th></th>\n",
       "      <th>id</th>\n",
       "      <th>pop</th>\n",
       "      <th>vacc</th>\n",
       "    </tr>\n",
       "  </thead>\n",
       "  <tbody>\n",
       "    <tr>\n",
       "      <th>0</th>\n",
       "      <td>20007</td>\n",
       "      <td>1493</td>\n",
       "      <td>0.925653</td>\n",
       "    </tr>\n",
       "    <tr>\n",
       "      <th>1</th>\n",
       "      <td>20105</td>\n",
       "      <td>19750</td>\n",
       "      <td>0.920658</td>\n",
       "    </tr>\n",
       "    <tr>\n",
       "      <th>2</th>\n",
       "      <td>20106</td>\n",
       "      <td>3316</td>\n",
       "      <td>0.912847</td>\n",
       "    </tr>\n",
       "    <tr>\n",
       "      <th>3</th>\n",
       "      <td>20109</td>\n",
       "      <td>41198</td>\n",
       "      <td>0.916598</td>\n",
       "    </tr>\n",
       "    <tr>\n",
       "      <th>4</th>\n",
       "      <td>20110</td>\n",
       "      <td>44006</td>\n",
       "      <td>0.921306</td>\n",
       "    </tr>\n",
       "    <tr>\n",
       "      <th>...</th>\n",
       "      <td>...</td>\n",
       "      <td>...</td>\n",
       "      <td>...</td>\n",
       "    </tr>\n",
       "    <tr>\n",
       "      <th>700</th>\n",
       "      <td>24649</td>\n",
       "      <td>2875</td>\n",
       "      <td>0.912000</td>\n",
       "    </tr>\n",
       "    <tr>\n",
       "      <th>701</th>\n",
       "      <td>24651</td>\n",
       "      <td>7061</td>\n",
       "      <td>0.920125</td>\n",
       "    </tr>\n",
       "    <tr>\n",
       "      <th>702</th>\n",
       "      <td>24656</td>\n",
       "      <td>2913</td>\n",
       "      <td>0.917611</td>\n",
       "    </tr>\n",
       "    <tr>\n",
       "      <th>703</th>\n",
       "      <td>24657</td>\n",
       "      <td>711</td>\n",
       "      <td>0.902954</td>\n",
       "    </tr>\n",
       "    <tr>\n",
       "      <th>704</th>\n",
       "      <td>37620</td>\n",
       "      <td>1499</td>\n",
       "      <td>0.895264</td>\n",
       "    </tr>\n",
       "  </tbody>\n",
       "</table>\n",
       "<p>705 rows × 3 columns</p>\n",
       "</div>"
      ],
      "text/plain": [
       "        id    pop      vacc\n",
       "0    20007   1493  0.925653\n",
       "1    20105  19750  0.920658\n",
       "2    20106   3316  0.912847\n",
       "3    20109  41198  0.916598\n",
       "4    20110  44006  0.921306\n",
       "..     ...    ...       ...\n",
       "700  24649   2875  0.912000\n",
       "701  24651   7061  0.920125\n",
       "702  24656   2913  0.917611\n",
       "703  24657    711  0.902954\n",
       "704  37620   1499  0.895264\n",
       "\n",
       "[705 rows x 3 columns]"
      ]
     },
     "execution_count": 3,
     "metadata": {},
     "output_type": "execute_result"
    }
   ],
   "source": [
    "# vaccination data and population data from sifat\n",
    "vacc_df = pd.read_csv(\"data/for_sim_opt_cleaned/pop.csv\")\n",
    "vacc_df"
   ]
  },
  {
   "cell_type": "code",
   "execution_count": 4,
   "id": "f18d2fbc-60f9-4256-bdfb-6132ff2dfde8",
   "metadata": {},
   "outputs": [],
   "source": [
    "commuter = pd.read_excel('data/va_zipcodes_raw/commuting_flows_county_2015.xlsx',skiprows=6)"
   ]
  },
  {
   "cell_type": "code",
   "execution_count": 5,
   "id": "789747e4-9c2a-410c-ba87-2058365245c3",
   "metadata": {},
   "outputs": [
    {
     "data": {
      "text/html": [
       "<div>\n",
       "<style scoped>\n",
       "    .dataframe tbody tr th:only-of-type {\n",
       "        vertical-align: middle;\n",
       "    }\n",
       "\n",
       "    .dataframe tbody tr th {\n",
       "        vertical-align: top;\n",
       "    }\n",
       "\n",
       "    .dataframe thead th {\n",
       "        text-align: right;\n",
       "    }\n",
       "</style>\n",
       "<table border=\"1\" class=\"dataframe\">\n",
       "  <thead>\n",
       "    <tr style=\"text-align: right;\">\n",
       "      <th></th>\n",
       "      <th>from</th>\n",
       "      <th>to</th>\n",
       "      <th>flow</th>\n",
       "      <th>error</th>\n",
       "    </tr>\n",
       "  </thead>\n",
       "  <tbody>\n",
       "    <tr>\n",
       "      <th>0</th>\n",
       "      <td>accomack_county</td>\n",
       "      <td>accomack_county</td>\n",
       "      <td>10922.0</td>\n",
       "      <td>634.0</td>\n",
       "    </tr>\n",
       "    <tr>\n",
       "      <th>1</th>\n",
       "      <td>accomack_county</td>\n",
       "      <td>chesterfield_county</td>\n",
       "      <td>9.0</td>\n",
       "      <td>17.0</td>\n",
       "    </tr>\n",
       "    <tr>\n",
       "      <th>2</th>\n",
       "      <td>accomack_county</td>\n",
       "      <td>fairfax_county</td>\n",
       "      <td>29.0</td>\n",
       "      <td>32.0</td>\n",
       "    </tr>\n",
       "    <tr>\n",
       "      <th>3</th>\n",
       "      <td>accomack_county</td>\n",
       "      <td>nelson_county</td>\n",
       "      <td>23.0</td>\n",
       "      <td>34.0</td>\n",
       "    </tr>\n",
       "    <tr>\n",
       "      <th>4</th>\n",
       "      <td>accomack_county</td>\n",
       "      <td>northampton_county</td>\n",
       "      <td>1318.0</td>\n",
       "      <td>243.0</td>\n",
       "    </tr>\n",
       "  </tbody>\n",
       "</table>\n",
       "</div>"
      ],
      "text/plain": [
       "              from                   to     flow  error\n",
       "0  accomack_county      accomack_county  10922.0  634.0\n",
       "1  accomack_county  chesterfield_county      9.0   17.0\n",
       "2  accomack_county       fairfax_county     29.0   32.0\n",
       "3  accomack_county        nelson_county     23.0   34.0\n",
       "4  accomack_county   northampton_county   1318.0  243.0"
      ]
     },
     "execution_count": 5,
     "metadata": {},
     "output_type": "execute_result"
    }
   ],
   "source": [
    "commuter.columns=['state_code1','county_code1','state_name1','county_name1',\n",
    "                  'state_code2','county_code2','state_name2','county_name2',\n",
    "                  'flow','error']\n",
    "va_commuter = commuter[np.logical_and(commuter['state_name1'] == \"Virginia\",commuter['state_name2']=='Virginia')]\\\n",
    "    .reset_index(drop=True)\n",
    "va_commuter = va_commuter[['county_name1','county_name2','flow','error']]\n",
    "#va_commuter['county_name1'] = [' '.join([word for word in locality.split() if word.lower() not in ['county','city']]) for locality in va_commuter['county_name1']]\n",
    "#va_commuter['county_name2'] = [' '.join([word for word in locality.split() if word.lower() not in ['county','city']]) for locality in va_commuter['county_name2']]\n",
    "va_commuter['county_name1'] = ['_'.join([word.lower() for word in locality.split()]) for locality in va_commuter['county_name1']]\n",
    "va_commuter['county_name2'] = ['_'.join([word.lower() for word in locality.split()]) for locality in va_commuter['county_name2']]\n",
    "va_commuter.columns = ['from','to','flow','error']\n",
    "va_commuter.head()"
   ]
  },
  {
   "cell_type": "code",
   "execution_count": 6,
   "id": "22e1c8b7-36a0-44da-a02c-5c40d381bdf1",
   "metadata": {},
   "outputs": [],
   "source": [
    "dist_df = pd.read_csv(\"data/for_sim_opt_cleaned/dist.csv\")\n",
    "dist_mat = dist_df.pivot(index='zipcode1',columns='zipcode2',values='distKM')\n",
    "dist_mat = dist_mat.replace(np.nan,0)"
   ]
  },
  {
   "cell_type": "code",
   "execution_count": 7,
   "id": "7036a6d2-107a-464f-a282-073cac5bf1b7",
   "metadata": {},
   "outputs": [
    {
     "data": {
      "text/html": [
       "<div>\n",
       "<style scoped>\n",
       "    .dataframe tbody tr th:only-of-type {\n",
       "        vertical-align: middle;\n",
       "    }\n",
       "\n",
       "    .dataframe tbody tr th {\n",
       "        vertical-align: top;\n",
       "    }\n",
       "\n",
       "    .dataframe thead th {\n",
       "        text-align: right;\n",
       "    }\n",
       "</style>\n",
       "<table border=\"1\" class=\"dataframe\">\n",
       "  <thead>\n",
       "    <tr style=\"text-align: right;\">\n",
       "      <th>zipcode2</th>\n",
       "      <th>20007</th>\n",
       "      <th>20105</th>\n",
       "      <th>20106</th>\n",
       "      <th>20109</th>\n",
       "      <th>20110</th>\n",
       "      <th>20111</th>\n",
       "      <th>20112</th>\n",
       "      <th>20115</th>\n",
       "      <th>20117</th>\n",
       "      <th>20119</th>\n",
       "      <th>...</th>\n",
       "      <th>24634</th>\n",
       "      <th>24637</th>\n",
       "      <th>24639</th>\n",
       "      <th>24641</th>\n",
       "      <th>24646</th>\n",
       "      <th>24649</th>\n",
       "      <th>24651</th>\n",
       "      <th>24656</th>\n",
       "      <th>24657</th>\n",
       "      <th>37620</th>\n",
       "    </tr>\n",
       "    <tr>\n",
       "      <th>zipcode1</th>\n",
       "      <th></th>\n",
       "      <th></th>\n",
       "      <th></th>\n",
       "      <th></th>\n",
       "      <th></th>\n",
       "      <th></th>\n",
       "      <th></th>\n",
       "      <th></th>\n",
       "      <th></th>\n",
       "      <th></th>\n",
       "      <th></th>\n",
       "      <th></th>\n",
       "      <th></th>\n",
       "      <th></th>\n",
       "      <th></th>\n",
       "      <th></th>\n",
       "      <th></th>\n",
       "      <th></th>\n",
       "      <th></th>\n",
       "      <th></th>\n",
       "      <th></th>\n",
       "    </tr>\n",
       "  </thead>\n",
       "  <tbody>\n",
       "    <tr>\n",
       "      <th>20007</th>\n",
       "      <td>0.000000</td>\n",
       "      <td>43.488963</td>\n",
       "      <td>83.262415</td>\n",
       "      <td>40.631702</td>\n",
       "      <td>39.023633</td>\n",
       "      <td>36.538757</td>\n",
       "      <td>41.575859</td>\n",
       "      <td>70.911925</td>\n",
       "      <td>55.109462</td>\n",
       "      <td>57.021453</td>\n",
       "      <td>...</td>\n",
       "      <td>461.353950</td>\n",
       "      <td>458.052679</td>\n",
       "      <td>465.123640</td>\n",
       "      <td>461.996939</td>\n",
       "      <td>477.682064</td>\n",
       "      <td>474.192985</td>\n",
       "      <td>437.530881</td>\n",
       "      <td>479.154416</td>\n",
       "      <td>460.028904</td>\n",
       "      <td>520.202492</td>\n",
       "    </tr>\n",
       "    <tr>\n",
       "      <th>20105</th>\n",
       "      <td>43.488963</td>\n",
       "      <td>0.000000</td>\n",
       "      <td>46.458354</td>\n",
       "      <td>18.521859</td>\n",
       "      <td>22.051255</td>\n",
       "      <td>21.315067</td>\n",
       "      <td>31.223611</td>\n",
       "      <td>29.654972</td>\n",
       "      <td>12.057040</td>\n",
       "      <td>32.815535</td>\n",
       "      <td>...</td>\n",
       "      <td>422.709349</td>\n",
       "      <td>420.711943</td>\n",
       "      <td>427.469472</td>\n",
       "      <td>424.376509</td>\n",
       "      <td>439.428264</td>\n",
       "      <td>436.551620</td>\n",
       "      <td>400.445923</td>\n",
       "      <td>440.390433</td>\n",
       "      <td>421.637660</td>\n",
       "      <td>484.192890</td>\n",
       "    </tr>\n",
       "    <tr>\n",
       "      <th>20106</th>\n",
       "      <td>83.262415</td>\n",
       "      <td>46.458354</td>\n",
       "      <td>0.000000</td>\n",
       "      <td>42.685475</td>\n",
       "      <td>44.842012</td>\n",
       "      <td>47.110861</td>\n",
       "      <td>46.416076</td>\n",
       "      <td>19.581901</td>\n",
       "      <td>42.151872</td>\n",
       "      <td>29.888819</td>\n",
       "      <td>...</td>\n",
       "      <td>378.232756</td>\n",
       "      <td>375.423744</td>\n",
       "      <td>382.351761</td>\n",
       "      <td>379.239017</td>\n",
       "      <td>394.680508</td>\n",
       "      <td>391.429355</td>\n",
       "      <td>355.024094</td>\n",
       "      <td>396.007105</td>\n",
       "      <td>376.979047</td>\n",
       "      <td>438.361683</td>\n",
       "    </tr>\n",
       "    <tr>\n",
       "      <th>20109</th>\n",
       "      <td>40.631702</td>\n",
       "      <td>18.521859</td>\n",
       "      <td>42.685475</td>\n",
       "      <td>0.000000</td>\n",
       "      <td>3.982382</td>\n",
       "      <td>4.947951</td>\n",
       "      <td>12.788013</td>\n",
       "      <td>32.796616</td>\n",
       "      <td>27.706060</td>\n",
       "      <td>18.333408</td>\n",
       "      <td>...</td>\n",
       "      <td>420.727655</td>\n",
       "      <td>417.544749</td>\n",
       "      <td>424.575476</td>\n",
       "      <td>421.452465</td>\n",
       "      <td>437.077250</td>\n",
       "      <td>433.647499</td>\n",
       "      <td>397.057889</td>\n",
       "      <td>438.525230</td>\n",
       "      <td>419.414089</td>\n",
       "      <td>479.957266</td>\n",
       "    </tr>\n",
       "    <tr>\n",
       "      <th>20110</th>\n",
       "      <td>39.023633</td>\n",
       "      <td>22.051255</td>\n",
       "      <td>44.842012</td>\n",
       "      <td>3.982382</td>\n",
       "      <td>0.000000</td>\n",
       "      <td>2.590111</td>\n",
       "      <td>9.205262</td>\n",
       "      <td>36.190343</td>\n",
       "      <td>31.630453</td>\n",
       "      <td>18.382787</td>\n",
       "      <td>...</td>\n",
       "      <td>422.453164</td>\n",
       "      <td>419.035200</td>\n",
       "      <td>426.119492</td>\n",
       "      <td>422.991139</td>\n",
       "      <td>438.726763</td>\n",
       "      <td>435.187499</td>\n",
       "      <td>398.508390</td>\n",
       "      <td>440.269621</td>\n",
       "      <td>421.092536</td>\n",
       "      <td>481.214370</td>\n",
       "    </tr>\n",
       "    <tr>\n",
       "      <th>...</th>\n",
       "      <td>...</td>\n",
       "      <td>...</td>\n",
       "      <td>...</td>\n",
       "      <td>...</td>\n",
       "      <td>...</td>\n",
       "      <td>...</td>\n",
       "      <td>...</td>\n",
       "      <td>...</td>\n",
       "      <td>...</td>\n",
       "      <td>...</td>\n",
       "      <td>...</td>\n",
       "      <td>...</td>\n",
       "      <td>...</td>\n",
       "      <td>...</td>\n",
       "      <td>...</td>\n",
       "      <td>...</td>\n",
       "      <td>...</td>\n",
       "      <td>...</td>\n",
       "      <td>...</td>\n",
       "      <td>...</td>\n",
       "      <td>...</td>\n",
       "    </tr>\n",
       "    <tr>\n",
       "      <th>24649</th>\n",
       "      <td>474.192985</td>\n",
       "      <td>436.551620</td>\n",
       "      <td>391.429355</td>\n",
       "      <td>433.647499</td>\n",
       "      <td>435.187499</td>\n",
       "      <td>437.656154</td>\n",
       "      <td>434.022749</td>\n",
       "      <td>406.927877</td>\n",
       "      <td>428.723576</td>\n",
       "      <td>417.552936</td>\n",
       "      <td>...</td>\n",
       "      <td>25.329744</td>\n",
       "      <td>17.115617</td>\n",
       "      <td>9.082260</td>\n",
       "      <td>12.196787</td>\n",
       "      <td>13.535581</td>\n",
       "      <td>0.000000</td>\n",
       "      <td>37.994208</td>\n",
       "      <td>25.095341</td>\n",
       "      <td>21.539671</td>\n",
       "      <td>57.718890</td>\n",
       "    </tr>\n",
       "    <tr>\n",
       "      <th>24651</th>\n",
       "      <td>437.530881</td>\n",
       "      <td>400.445923</td>\n",
       "      <td>355.024094</td>\n",
       "      <td>397.057889</td>\n",
       "      <td>398.508390</td>\n",
       "      <td>400.995017</td>\n",
       "      <td>397.135039</td>\n",
       "      <td>370.875363</td>\n",
       "      <td>392.892280</td>\n",
       "      <td>380.755355</td>\n",
       "      <td>...</td>\n",
       "      <td>38.944431</td>\n",
       "      <td>20.973784</td>\n",
       "      <td>29.467177</td>\n",
       "      <td>26.324146</td>\n",
       "      <td>46.060306</td>\n",
       "      <td>37.994208</td>\n",
       "      <td>0.000000</td>\n",
       "      <td>53.525012</td>\n",
       "      <td>33.937869</td>\n",
       "      <td>85.821999</td>\n",
       "    </tr>\n",
       "    <tr>\n",
       "      <th>24656</th>\n",
       "      <td>479.154416</td>\n",
       "      <td>440.390433</td>\n",
       "      <td>396.007105</td>\n",
       "      <td>438.525230</td>\n",
       "      <td>440.269621</td>\n",
       "      <td>442.690487</td>\n",
       "      <td>439.618963</td>\n",
       "      <td>410.737866</td>\n",
       "      <td>432.050682</td>\n",
       "      <td>422.961111</td>\n",
       "      <td>...</td>\n",
       "      <td>17.950701</td>\n",
       "      <td>36.597144</td>\n",
       "      <td>27.694750</td>\n",
       "      <td>29.842534</td>\n",
       "      <td>11.639441</td>\n",
       "      <td>25.095341</td>\n",
       "      <td>53.525012</td>\n",
       "      <td>0.000000</td>\n",
       "      <td>20.700563</td>\n",
       "      <td>73.333259</td>\n",
       "    </tr>\n",
       "    <tr>\n",
       "      <th>24657</th>\n",
       "      <td>460.028904</td>\n",
       "      <td>421.637660</td>\n",
       "      <td>376.979047</td>\n",
       "      <td>419.414089</td>\n",
       "      <td>421.092536</td>\n",
       "      <td>423.529684</td>\n",
       "      <td>420.279878</td>\n",
       "      <td>391.983724</td>\n",
       "      <td>413.482672</td>\n",
       "      <td>403.674399</td>\n",
       "      <td>...</td>\n",
       "      <td>5.658340</td>\n",
       "      <td>21.648419</td>\n",
       "      <td>16.406259</td>\n",
       "      <td>16.269724</td>\n",
       "      <td>17.978699</td>\n",
       "      <td>21.539671</td>\n",
       "      <td>33.937869</td>\n",
       "      <td>20.700563</td>\n",
       "      <td>0.000000</td>\n",
       "      <td>79.077780</td>\n",
       "    </tr>\n",
       "    <tr>\n",
       "      <th>37620</th>\n",
       "      <td>520.202492</td>\n",
       "      <td>484.192890</td>\n",
       "      <td>438.361683</td>\n",
       "      <td>479.957266</td>\n",
       "      <td>481.214370</td>\n",
       "      <td>483.735360</td>\n",
       "      <td>479.347817</td>\n",
       "      <td>454.747461</td>\n",
       "      <td>477.029774</td>\n",
       "      <td>463.228037</td>\n",
       "      <td>...</td>\n",
       "      <td>82.081687</td>\n",
       "      <td>68.286617</td>\n",
       "      <td>65.271210</td>\n",
       "      <td>67.539996</td>\n",
       "      <td>64.623147</td>\n",
       "      <td>57.718890</td>\n",
       "      <td>85.821999</td>\n",
       "      <td>73.333259</td>\n",
       "      <td>79.077780</td>\n",
       "      <td>0.000000</td>\n",
       "    </tr>\n",
       "  </tbody>\n",
       "</table>\n",
       "<p>705 rows × 705 columns</p>\n",
       "</div>"
      ],
      "text/plain": [
       "zipcode2       20007       20105       20106       20109       20110  \\\n",
       "zipcode1                                                               \n",
       "20007       0.000000   43.488963   83.262415   40.631702   39.023633   \n",
       "20105      43.488963    0.000000   46.458354   18.521859   22.051255   \n",
       "20106      83.262415   46.458354    0.000000   42.685475   44.842012   \n",
       "20109      40.631702   18.521859   42.685475    0.000000    3.982382   \n",
       "20110      39.023633   22.051255   44.842012    3.982382    0.000000   \n",
       "...              ...         ...         ...         ...         ...   \n",
       "24649     474.192985  436.551620  391.429355  433.647499  435.187499   \n",
       "24651     437.530881  400.445923  355.024094  397.057889  398.508390   \n",
       "24656     479.154416  440.390433  396.007105  438.525230  440.269621   \n",
       "24657     460.028904  421.637660  376.979047  419.414089  421.092536   \n",
       "37620     520.202492  484.192890  438.361683  479.957266  481.214370   \n",
       "\n",
       "zipcode2       20111       20112       20115       20117       20119  ...  \\\n",
       "zipcode1                                                              ...   \n",
       "20007      36.538757   41.575859   70.911925   55.109462   57.021453  ...   \n",
       "20105      21.315067   31.223611   29.654972   12.057040   32.815535  ...   \n",
       "20106      47.110861   46.416076   19.581901   42.151872   29.888819  ...   \n",
       "20109       4.947951   12.788013   32.796616   27.706060   18.333408  ...   \n",
       "20110       2.590111    9.205262   36.190343   31.630453   18.382787  ...   \n",
       "...              ...         ...         ...         ...         ...  ...   \n",
       "24649     437.656154  434.022749  406.927877  428.723576  417.552936  ...   \n",
       "24651     400.995017  397.135039  370.875363  392.892280  380.755355  ...   \n",
       "24656     442.690487  439.618963  410.737866  432.050682  422.961111  ...   \n",
       "24657     423.529684  420.279878  391.983724  413.482672  403.674399  ...   \n",
       "37620     483.735360  479.347817  454.747461  477.029774  463.228037  ...   \n",
       "\n",
       "zipcode2       24634       24637       24639       24641       24646  \\\n",
       "zipcode1                                                               \n",
       "20007     461.353950  458.052679  465.123640  461.996939  477.682064   \n",
       "20105     422.709349  420.711943  427.469472  424.376509  439.428264   \n",
       "20106     378.232756  375.423744  382.351761  379.239017  394.680508   \n",
       "20109     420.727655  417.544749  424.575476  421.452465  437.077250   \n",
       "20110     422.453164  419.035200  426.119492  422.991139  438.726763   \n",
       "...              ...         ...         ...         ...         ...   \n",
       "24649      25.329744   17.115617    9.082260   12.196787   13.535581   \n",
       "24651      38.944431   20.973784   29.467177   26.324146   46.060306   \n",
       "24656      17.950701   36.597144   27.694750   29.842534   11.639441   \n",
       "24657       5.658340   21.648419   16.406259   16.269724   17.978699   \n",
       "37620      82.081687   68.286617   65.271210   67.539996   64.623147   \n",
       "\n",
       "zipcode2       24649       24651       24656       24657       37620  \n",
       "zipcode1                                                              \n",
       "20007     474.192985  437.530881  479.154416  460.028904  520.202492  \n",
       "20105     436.551620  400.445923  440.390433  421.637660  484.192890  \n",
       "20106     391.429355  355.024094  396.007105  376.979047  438.361683  \n",
       "20109     433.647499  397.057889  438.525230  419.414089  479.957266  \n",
       "20110     435.187499  398.508390  440.269621  421.092536  481.214370  \n",
       "...              ...         ...         ...         ...         ...  \n",
       "24649       0.000000   37.994208   25.095341   21.539671   57.718890  \n",
       "24651      37.994208    0.000000   53.525012   33.937869   85.821999  \n",
       "24656      25.095341   53.525012    0.000000   20.700563   73.333259  \n",
       "24657      21.539671   33.937869   20.700563    0.000000   79.077780  \n",
       "37620      57.718890   85.821999   73.333259   79.077780    0.000000  \n",
       "\n",
       "[705 rows x 705 columns]"
      ]
     },
     "execution_count": 7,
     "metadata": {},
     "output_type": "execute_result"
    }
   ],
   "source": [
    "dist_mat"
   ]
  },
  {
   "cell_type": "code",
   "execution_count": 8,
   "id": "d31d6ea7-e3fd-4793-b4b7-aa0bb74a7cd9",
   "metadata": {},
   "outputs": [],
   "source": [
    "zipcodes_by_county = pd.read_csv('data/VA_zipcodes_cleaned/zipcodes_by_county.csv')\n",
    "city_county_names = pd.read_csv('data/VA_zipcodes_cleaned/city_county_names.csv')"
   ]
  },
  {
   "cell_type": "code",
   "execution_count": 9,
   "id": "af6133e8-fc3b-4680-9c8b-49497be50671",
   "metadata": {},
   "outputs": [
    {
     "data": {
      "text/plain": [
       "['James City']"
      ]
     },
     "execution_count": 9,
     "metadata": {},
     "output_type": "execute_result"
    }
   ],
   "source": [
    "[name for name in city_county_names['name'] if 'james' in name.lower()]"
   ]
  },
  {
   "cell_type": "code",
   "execution_count": 10,
   "id": "8aa21876-383b-491a-82c7-4171b065de87",
   "metadata": {},
   "outputs": [],
   "source": [
    "# zipcode -> county\n",
    "agg_mapping = []\n",
    "for zipcode in dist_mat.index:\n",
    "    agg_mapping.append(zipcodes_by_county[zipcodes_by_county['zipcode'] == zipcode]['mapping'].iloc[0])\n",
    "agg_mapping = np.int64(agg_mapping)"
   ]
  },
  {
   "cell_type": "code",
   "execution_count": 11,
   "id": "c67b017d-0862-43e8-ae2f-66a6996f233b",
   "metadata": {
    "tags": []
   },
   "outputs": [
    {
     "data": {
      "text/plain": [
       "0"
      ]
     },
     "execution_count": 11,
     "metadata": {},
     "output_type": "execute_result"
    }
   ],
   "source": [
    "min(agg_mapping)"
   ]
  },
  {
   "cell_type": "code",
   "execution_count": 12,
   "id": "3b247a0a-bd6c-429b-8343-d7974d8fe90f",
   "metadata": {
    "tags": []
   },
   "outputs": [],
   "source": [
    "# county -> [list of zipcodes]\n",
    "inv_agg_mapping = []\n",
    "for i in range(len(city_county_names.index)):\n",
    "    zipcodes = []\n",
    "    for index,j in enumerate(agg_mapping):\n",
    "        if i==j: zipcodes.append(index)\n",
    "    inv_agg_mapping.append(zipcodes)"
   ]
  },
  {
   "cell_type": "code",
   "execution_count": 13,
   "id": "2e729459-ed86-4d69-b67d-6d40dfaa3606",
   "metadata": {
    "tags": []
   },
   "outputs": [],
   "source": [
    "#inv_agg_mapping"
   ]
  },
  {
   "cell_type": "code",
   "execution_count": 14,
   "id": "2f125710-727a-49ab-b1c8-115f76a5e4b8",
   "metadata": {},
   "outputs": [],
   "source": [
    "county_name_index = {}\n",
    "for index,name in enumerate(city_county_names['name']):\n",
    "    this_name = name.lower()\n",
    "    if 'charles' in this_name:\n",
    "        result = '_'.join([word.lower() for word in (name+\" county\").split()])\n",
    "    elif 'james' in this_name:\n",
    "        result = '_'.join([word.lower() for word in (name+\" county\").split()])\n",
    "    elif 'city' in this_name:\n",
    "        result = '_'.join([word.lower() for word in name.split()])\n",
    "    elif this_name == 'bristol':\n",
    "        result = '_'.join([word.lower() for word in (name+\" city\").split()])\n",
    "    elif this_name == 'radford':\n",
    "        result = '_'.join([word.lower() for word in (name+\" city\").split()])\n",
    "    elif this_name == 'salem':\n",
    "        result = '_'.join([word.lower() for word in (name+\" city\").split()])\n",
    "    else:\n",
    "        result = '_'.join([word.lower() for word in (name+\" county\").split()])\n",
    "    county_name_index[result]=index"
   ]
  },
  {
   "cell_type": "code",
   "execution_count": 15,
   "id": "f6b7710d-7dc0-40b2-9447-ef1f0afaf0cc",
   "metadata": {},
   "outputs": [
    {
     "data": {
      "text/plain": [
       "{'accomack_county': 0,\n",
       " 'albemarle_county': 1,\n",
       " 'alexandria_city': 2,\n",
       " 'alleghany_county': 3,\n",
       " 'amelia_county': 4,\n",
       " 'amherst_county': 5,\n",
       " 'appomattox_county': 6,\n",
       " 'arlington_county': 7,\n",
       " 'augusta_county': 8,\n",
       " 'bath_county': 9,\n",
       " 'bedford_county': 10,\n",
       " 'bedford_city': 11,\n",
       " 'bland_county': 12,\n",
       " 'botetourt_county': 13,\n",
       " 'bristol_city': 14,\n",
       " 'brunswick_county': 15,\n",
       " 'buchanan_county': 16,\n",
       " 'buckingham_county': 17,\n",
       " 'buena_vista_city': 18,\n",
       " 'campbell_county': 19,\n",
       " 'caroline_county': 20,\n",
       " 'carroll_county': 21,\n",
       " 'charles_city_county': 22,\n",
       " 'charlotte_county': 23,\n",
       " 'charlottesville_city': 24,\n",
       " 'chesapeake_city': 25,\n",
       " 'chesterfield_county': 26,\n",
       " 'clarke_county': 27,\n",
       " 'colonial_heights_city': 28,\n",
       " 'covington_city': 29,\n",
       " 'craig_county': 30,\n",
       " 'culpeper_county': 31,\n",
       " 'cumberland_county': 32,\n",
       " 'danville_city': 33,\n",
       " 'dickenson_county': 34,\n",
       " 'dinwiddie_county': 35,\n",
       " 'emporia_city': 36,\n",
       " 'essex_county': 37,\n",
       " 'fairfax_county': 38,\n",
       " 'fairfax_city': 39,\n",
       " 'falls_church_city': 40,\n",
       " 'fauquier_county': 41,\n",
       " 'floyd_county': 42,\n",
       " 'fluvanna_county': 43,\n",
       " 'franklin_county': 44,\n",
       " 'franklin_city': 45,\n",
       " 'frederick_county': 46,\n",
       " 'fredericksburg_city': 47,\n",
       " 'galax_city': 48,\n",
       " 'giles_county': 49,\n",
       " 'gloucester_county': 50,\n",
       " 'goochland_county': 51,\n",
       " 'grayson_county': 52,\n",
       " 'greene_county': 53,\n",
       " 'halifax_county': 54,\n",
       " 'hampton_city': 55,\n",
       " 'hanover_county': 56,\n",
       " 'harrisonburg_city': 57,\n",
       " 'henrico_county': 58,\n",
       " 'henry_county': 59,\n",
       " 'highland_county': 60,\n",
       " 'hopewell_city': 61,\n",
       " 'isle_of_wight_county': 62,\n",
       " 'james_city_county': 63,\n",
       " 'king_and_queen_county': 64,\n",
       " 'king_george_county': 65,\n",
       " 'king_william_county': 66,\n",
       " 'lancaster_county': 67,\n",
       " 'lee_county': 68,\n",
       " 'lexington_city': 69,\n",
       " 'loudoun_county': 70,\n",
       " 'louisa_county': 71,\n",
       " 'lunenburg_county': 72,\n",
       " 'lynchburg_city': 73,\n",
       " 'madison_county': 74,\n",
       " 'manassas_city': 75,\n",
       " 'manassas_park_city': 76,\n",
       " 'martinsville_city': 77,\n",
       " 'mathews_county': 78,\n",
       " 'mecklenburg_county': 79,\n",
       " 'middlesex_county': 80,\n",
       " 'montgomery_county': 81,\n",
       " 'nelson_county': 82,\n",
       " 'new_kent_county': 83,\n",
       " 'newport_news_city': 84,\n",
       " 'norfolk_city': 85,\n",
       " 'northampton_county': 86,\n",
       " 'northumberland_county': 87,\n",
       " 'norton_city': 88,\n",
       " 'nottoway_county': 89,\n",
       " 'orange_county': 90,\n",
       " 'page_county': 91,\n",
       " 'patrick_county': 92,\n",
       " 'petersburg_city': 93,\n",
       " 'pittsylvania_county': 94,\n",
       " 'poquoson_city': 95,\n",
       " 'portsmouth_city': 96,\n",
       " 'powhatan_county': 97,\n",
       " 'prince_edward_county': 98,\n",
       " 'prince_george_county': 99,\n",
       " 'prince_william_county': 100,\n",
       " 'pulaski_county': 101,\n",
       " 'radford_city': 102,\n",
       " 'rappahannock_county': 103,\n",
       " 'richmond_county': 104,\n",
       " 'richmond_city': 105,\n",
       " 'roanoke_county': 106,\n",
       " 'roanoke_city': 107,\n",
       " 'rockbridge_county': 108,\n",
       " 'rockingham_county': 109,\n",
       " 'russell_county': 110,\n",
       " 'salem_city': 111,\n",
       " 'scott_county': 112,\n",
       " 'shenandoah_county': 113,\n",
       " 'smyth_county': 114,\n",
       " 'southampton_county': 115,\n",
       " 'spotsylvania_county': 116,\n",
       " 'stafford_county': 117,\n",
       " 'staunton_city': 118,\n",
       " 'suffolk_city': 119,\n",
       " 'surry_county': 120,\n",
       " 'sussex_county': 121,\n",
       " 'tazewell_county': 122,\n",
       " 'virginia_beach_city': 123,\n",
       " 'warren_county': 124,\n",
       " 'washington_county': 125,\n",
       " 'waynesboro_city': 126,\n",
       " 'westmoreland_county': 127,\n",
       " 'williamsburg_city': 128,\n",
       " 'winchester_city': 129,\n",
       " 'wise_county': 130,\n",
       " 'wythe_county': 131,\n",
       " 'york_county': 132}"
      ]
     },
     "execution_count": 15,
     "metadata": {},
     "output_type": "execute_result"
    }
   ],
   "source": [
    "county_name_index"
   ]
  },
  {
   "cell_type": "code",
   "execution_count": 16,
   "id": "c6ff7916-4fae-4a9c-8a22-afec338143c2",
   "metadata": {},
   "outputs": [],
   "source": [
    "from scripts.spatial_tsir import *"
   ]
  },
  {
   "cell_type": "code",
   "execution_count": 17,
   "id": "6a1127a6-f52d-4c5c-924c-532d463ef8c3",
   "metadata": {},
   "outputs": [],
   "source": [
    "def grav_mod(distances,population,tau1,tau2,rho,theta):\n",
    "    params = {\"tau1\":tau1, \"tau2\":tau2, \"rho\":rho, \"theta\":theta}\n",
    "    # if I is replaced by N, it should be equivalent.\n",
    "    return gravity(population,distances,np.array(population['pop']),params,variant='orig')"
   ]
  },
  {
   "cell_type": "code",
   "execution_count": 18,
   "id": "615f18ea-0fea-49fa-8b66-0a479f7a73ad",
   "metadata": {},
   "outputs": [],
   "source": [
    "def grav_agg(tau1,tau2,rho,theta, agg_mapping):\n",
    "    matrix,influx = gravity_numba(\n",
    "        np.array(vacc_df['pop']),\n",
    "        np.array(dist_mat),\n",
    "        np.array(vacc_df['pop']),\n",
    "        tau1,tau2,rho,theta,\n",
    "        variant=\"orig\"\n",
    "    )\n",
    "    agg_size = np.max(agg_mapping)+1\n",
    "    agg_flows = np.zeros((agg_size,agg_size))\n",
    "    matrix_size = np.shape(matrix)[0]\n",
    "    for i in range(matrix_size):\n",
    "        for j in range(matrix_size):\n",
    "            agg_flows[ agg_mapping[i], agg_mapping[j] ] += matrix[i,j]\n",
    "            \n",
    "    return agg_flows"
   ]
  },
  {
   "cell_type": "code",
   "execution_count": 19,
   "id": "45b6746a-74d7-4b65-95ec-f9d557d871c6",
   "metadata": {},
   "outputs": [
    {
     "data": {
      "text/plain": [
       "array([[1.63673618e+02, 3.08407786e+02, 1.33077195e+03, ...,\n",
       "        2.57077167e+01, 2.47396506e+01, 5.55326679e+02],\n",
       "       [2.79136227e+01, 1.01105897e+04, 3.64591815e+03, ...,\n",
       "        1.01223615e+02, 1.13546122e+02, 6.21288290e+02],\n",
       "       [6.82462962e+01, 2.06863651e+03, 1.80300924e+05, ...,\n",
       "        1.20163950e+02, 1.17565665e+02, 1.09150775e+03],\n",
       "       ...,\n",
       "       [5.58848591e+00, 2.39660699e+02, 5.10930188e+02, ...,\n",
       "        8.34030984e+02, 1.06904061e+02, 1.15866586e+02],\n",
       "       [5.19566582e+00, 2.58314259e+02, 4.82366885e+02, ...,\n",
       "        1.00943654e+02, 3.42874291e+02, 1.12766053e+02],\n",
       "       [4.45028250e+01, 5.55980953e+02, 1.74785361e+03, ...,\n",
       "        4.33230408e+01, 4.35241260e+01, 6.92455714e+03]])"
      ]
     },
     "execution_count": 19,
     "metadata": {},
     "output_type": "execute_result"
    }
   ],
   "source": [
    "grav_agg(1,2.3,1,1e-10,agg_mapping)"
   ]
  },
  {
   "cell_type": "code",
   "execution_count": 20,
   "id": "9458c001-6b30-47d7-9cb2-038994c92158",
   "metadata": {},
   "outputs": [
    {
     "data": {
      "text/plain": [
       "(705, 705)"
      ]
     },
     "execution_count": 20,
     "metadata": {},
     "output_type": "execute_result"
    }
   ],
   "source": [
    "np.shape(dist_mat)"
   ]
  },
  {
   "cell_type": "code",
   "execution_count": 21,
   "id": "2ed2f345-38ce-4664-b8a1-1eb0d2975e62",
   "metadata": {},
   "outputs": [],
   "source": [
    "def mse(agg_grav_flows, commuter_flows, county_name_index, return_unlisted=False, error_type=\"mse\"):\n",
    "    error = 0\n",
    "    n = np.shape(agg_grav_flows)[0]\n",
    "    unlisted_localities = []\n",
    "    for index,row in commuter_flows.iterrows():\n",
    "        try:\n",
    "            from_index = county_name_index[row['from']]\n",
    "        except KeyError:\n",
    "            if not row['from'] in unlisted_localities:\n",
    "                unlisted_localities.append(row['from'])\n",
    "            continue\n",
    "        try:\n",
    "            to_index = county_name_index[row['to']]\n",
    "        except KeyError:\n",
    "            if not row['to'] in unlisted_localities:\n",
    "                unlisted_localities.append(row['to'])\n",
    "            continue\n",
    "        if error_type == \"mse\":\n",
    "            error += (agg_grav_flows[from_index,to_index] - row['flow'])**2\n",
    "        elif error_type == \"abs\":\n",
    "            error += agg_grav_flows[from_index,to_index] - row['flow']\n",
    "    error = error/(2*n)\n",
    "    if return_unlisted:\n",
    "        return unlisted_localities,error\n",
    "    else:\n",
    "        return error"
   ]
  },
  {
   "cell_type": "code",
   "execution_count": 22,
   "id": "1c3157d2-a9b6-4458-93f2-0e374165d070",
   "metadata": {},
   "outputs": [
    {
     "data": {
      "text/plain": [
       "220264742.59402525"
      ]
     },
     "execution_count": 22,
     "metadata": {},
     "output_type": "execute_result"
    }
   ],
   "source": [
    "mse(grav_agg(7.91523059e-01, 1.17685482e-02, 1.27603521e+00,1,agg_mapping), va_commuter, county_name_index)"
   ]
  },
  {
   "cell_type": "code",
   "execution_count": 23,
   "id": "b4968dff-bb6d-408f-8ecc-1d6f95691dc3",
   "metadata": {},
   "outputs": [
    {
     "data": {
      "text/plain": [
       "793976542.8457662"
      ]
     },
     "execution_count": 23,
     "metadata": {},
     "output_type": "execute_result"
    }
   ],
   "source": [
    "mse(grav_agg(1, 1, 1,1e-10,agg_mapping), va_commuter, county_name_index)"
   ]
  },
  {
   "cell_type": "code",
   "execution_count": 24,
   "id": "072f5af7-a5f3-4987-a5e3-a6bfb63fc306",
   "metadata": {
    "tags": []
   },
   "outputs": [
    {
     "data": {
      "text/plain": [
       "793995526.7468008"
      ]
     },
     "execution_count": 24,
     "metadata": {},
     "output_type": "execute_result"
    }
   ],
   "source": [
    "mse(grav_agg(1.2, 0.7, 1,1e-10,agg_mapping), va_commuter, county_name_index)"
   ]
  },
  {
   "cell_type": "code",
   "execution_count": 25,
   "id": "15307bfb-1891-4243-968b-694bc3d45f53",
   "metadata": {},
   "outputs": [
    {
     "data": {
      "text/plain": [
       "array([1.00000000e-10, 2.04081634e-02, 4.08163266e-02, 6.12244899e-02,\n",
       "       8.16326532e-02, 1.02040816e-01, 1.22448980e-01, 1.42857143e-01,\n",
       "       1.63265306e-01, 1.83673469e-01, 2.04081633e-01, 2.24489796e-01,\n",
       "       2.44897959e-01, 2.65306123e-01, 2.85714286e-01, 3.06122449e-01,\n",
       "       3.26530612e-01, 3.46938776e-01, 3.67346939e-01, 3.87755102e-01,\n",
       "       4.08163265e-01, 4.28571429e-01, 4.48979592e-01, 4.69387755e-01,\n",
       "       4.89795918e-01, 5.10204082e-01, 5.30612245e-01, 5.51020408e-01,\n",
       "       5.71428571e-01, 5.91836735e-01, 6.12244898e-01, 6.32653061e-01,\n",
       "       6.53061225e-01, 6.73469388e-01, 6.93877551e-01, 7.14285714e-01,\n",
       "       7.34693878e-01, 7.55102041e-01, 7.75510204e-01, 7.95918367e-01,\n",
       "       8.16326531e-01, 8.36734694e-01, 8.57142857e-01, 8.77551020e-01,\n",
       "       8.97959184e-01, 9.18367347e-01, 9.38775510e-01, 9.59183673e-01,\n",
       "       9.79591837e-01, 1.00000000e+00])"
      ]
     },
     "execution_count": 25,
     "metadata": {},
     "output_type": "execute_result"
    }
   ],
   "source": [
    "np.linspace(1e-10,1)"
   ]
  },
  {
   "cell_type": "code",
   "execution_count": 26,
   "id": "3cc5ea14-b4a2-40ba-bd0f-ae38d4135b68",
   "metadata": {},
   "outputs": [
    {
     "data": {
      "text/plain": [
       "[<matplotlib.lines.Line2D at 0x7ff3c6af5180>]"
      ]
     },
     "execution_count": 26,
     "metadata": {},
     "output_type": "execute_result"
    },
    {
     "data": {
      "image/png": "[encoded data removed]",
      "text/plain": [
       "<Figure size 640x480 with 1 Axes>"
      ]
     },
     "metadata": {},
     "output_type": "display_data"
    }
   ],
   "source": [
    "thetas_to_try = np.linspace(1.341,1.342)\n",
    "mses = [mse(grav_agg(7.91523059e-01, 1.17685482e-02, 1.27603521e+00,thet,agg_mapping), va_commuter, county_name_index) for thet in thetas_to_try]\n",
    "\n",
    "plt.plot(thetas_to_try, mses)"
   ]
  },
  {
   "cell_type": "code",
   "execution_count": 27,
   "id": "6c300180-5868-4c31-8383-55f434ce3d56",
   "metadata": {},
   "outputs": [],
   "source": [
    "def grav_jacobian(tau1,tau2,rho,theta, pop,dist_mat, agg_mapping,inv_agg_mapping, commuter_flows, scale=False):\n",
    "    matrix,influx = gravity_numba(\n",
    "        np.array(vacc_df['pop']),\n",
    "        np.array(dist_mat),\n",
    "        np.array(vacc_df['pop']),\n",
    "        tau1,tau2,rho,theta\n",
    "    )\n",
    "    agg_size = np.max(agg_mapping)+1\n",
    "    agg_flows = np.zeros((agg_size,agg_size))\n",
    "    matrix_size = np.shape(matrix)[0]\n",
    "    for i in range(matrix_size):\n",
    "        for j in range(matrix_size):\n",
    "            agg_flows[ agg_mapping[i], agg_mapping[j] ] += matrix[i,j]\n",
    "    \n",
    "    residuals = []\n",
    "    partial_theta = []\n",
    "    partial_tau1 = []\n",
    "    partial_tau2 = []\n",
    "    partial_rho = []\n",
    "    pred = []\n",
    "    data = []\n",
    "    n = len(commuter_flows.index)\n",
    "    for index,row in commuter_flows.iterrows():\n",
    "        try:\n",
    "            from_index = county_name_index[row['from']]\n",
    "            to_index = county_name_index[row['to']]\n",
    "        except KeyError:\n",
    "            continue\n",
    "        residuals.append(agg_flows[from_index,to_index] - row['flow'])\n",
    "        pred.append(agg_flows[from_index,to_index])\n",
    "        data.append(row['flow'])\n",
    "        partial_theta.append((1/theta)*agg_flows[from_index,to_index])\n",
    "\n",
    "        grav_unsummed = []\n",
    "        tau1_pop_logs = []\n",
    "        tau2_pop_logs = []\n",
    "        rho_factor = []\n",
    "        for zip_index_from in inv_agg_mapping[county_name_index[row['from']]]:\n",
    "            for zip_index_to in inv_agg_mapping[county_name_index[row['to']]]:\n",
    "                if zip_index_from == zip_index_to:\n",
    "                    continue\n",
    "                grav_unsummed.append(\n",
    "                    theta*(pop[zip_index_from]**tau1 * pop[zip_index_to]**tau2)/dist_mat[zip_index_from, zip_index_to]**rho\n",
    "                )\n",
    "                tau1_pop_logs.append(\n",
    "                    np.log(pop[zip_index_from])\n",
    "                )\n",
    "                tau2_pop_logs.append(\n",
    "                    np.log(pop[zip_index_to])\n",
    "                )\n",
    "                rho_factor.append(\n",
    "                    -np.log(dist_mat[zip_index_from, zip_index_to])/dist_mat[zip_index_from, zip_index_to]**rho\n",
    "                )\n",
    "        partial_tau1.append(np.array(grav_unsummed) @ np.array(tau1_pop_logs))\n",
    "        partial_tau2.append(np.array(grav_unsummed) @ np.array(tau2_pop_logs))\n",
    "        partial_rho.append(np.array(grav_unsummed) @ np.array(rho_factor))\n",
    "    \n",
    "    jac= np.array([\n",
    "        (1/n)* np.array(residuals) @ np.array(partial_tau1),\n",
    "        (1/n)* np.array(residuals) @ np.array(partial_tau2),\n",
    "        (1/n)* np.array(residuals) @ np.array(partial_rho),\n",
    "        (1/n)* np.array(residuals) @ np.array(partial_theta)\n",
    "    ])\n",
    "    if scale:\n",
    "        jac = jac/np.linalg.norm(jac,ord=2)\n",
    "    return jac"
   ]
  },
  {
   "cell_type": "code",
   "execution_count": 51,
   "id": "17085dcc-f43d-4593-b047-424bf217dcc7",
   "metadata": {},
   "outputs": [],
   "source": [
    "def grav_jacobian(tau1,tau2,rho,log_theta, pop,dist_mat, agg_mapping,inv_agg_mapping, commuter_flows, scale=False, return_data = False):\n",
    "    matrix,influx = gravity_numba(\n",
    "        np.array(vacc_df['pop']),\n",
    "        np.array(dist_mat),\n",
    "        np.array(vacc_df['pop']),\n",
    "        tau1,tau2,rho,np.exp(log_theta)\n",
    "    )\n",
    "    agg_size = np.max(agg_mapping)+1\n",
    "    agg_flows = np.zeros((agg_size,agg_size))\n",
    "    matrix_size = np.shape(matrix)[0]\n",
    "    for i in range(matrix_size):\n",
    "        for j in range(matrix_size):\n",
    "            agg_flows[ agg_mapping[i], agg_mapping[j] ] += matrix[i,j]\n",
    "    \n",
    "    residuals = []\n",
    "    partial_theta = []\n",
    "    partial_tau1 = []\n",
    "    partial_tau2 = []\n",
    "    partial_rho = []\n",
    "    pred = []\n",
    "    data = []\n",
    "    n = len(commuter_flows.index)\n",
    "    for index,row in commuter_flows.iterrows():\n",
    "        try:\n",
    "            from_index = county_name_index[row['from']]\n",
    "            to_index = county_name_index[row['to']]\n",
    "        except KeyError:\n",
    "            continue\n",
    "        residuals.append(agg_flows[from_index,to_index] - row['flow'])\n",
    "        pred.append(agg_flows[from_index,to_index])\n",
    "        data.append(row['flow'])\n",
    "        partial_theta.append(np.exp(log_theta)*agg_flows[from_index,to_index])\n",
    "\n",
    "        grav_unsummed = []\n",
    "        tau1_pop_logs = []\n",
    "        tau2_pop_logs = []\n",
    "        rho_factor = []\n",
    "        for zip_index_from in inv_agg_mapping[county_name_index[row['from']]]:\n",
    "            for zip_index_to in inv_agg_mapping[county_name_index[row['to']]]:\n",
    "                if zip_index_from == zip_index_to:\n",
    "                    continue\n",
    "                grav_unsummed.append(\n",
    "                    np.exp(log_theta)*(pop[zip_index_from]**tau1 * pop[zip_index_to]**tau2)/dist_mat[zip_index_from, zip_index_to]**rho\n",
    "                )\n",
    "                tau1_pop_logs.append(\n",
    "                    np.log(pop[zip_index_from])\n",
    "                )\n",
    "                tau2_pop_logs.append(\n",
    "                    np.log(pop[zip_index_to])\n",
    "                )\n",
    "                rho_factor.append(\n",
    "                    -np.log(dist_mat[zip_index_from, zip_index_to])/dist_mat[zip_index_from, zip_index_to]**rho\n",
    "                )\n",
    "        partial_tau1.append(np.array(grav_unsummed) @ np.array(tau1_pop_logs))\n",
    "        partial_tau2.append(np.array(grav_unsummed) @ np.array(tau2_pop_logs))\n",
    "        partial_rho.append(np.array(grav_unsummed) @ np.array(rho_factor))\n",
    "    \n",
    "    jac= np.array([\n",
    "        (1/n)* np.array(residuals) @ np.array(partial_tau1),\n",
    "        (1/n)* np.array(residuals) @ np.array(partial_tau2),\n",
    "        (1/n)* np.array(residuals) @ np.array(partial_rho),\n",
    "        (1/n)* np.array(residuals) @ np.array(partial_theta)\n",
    "    ])\n",
    "    if scale:\n",
    "        jac = jac/np.linalg.norm(jac,ord=2)\n",
    "    if return_data:\n",
    "        return jac, data, pred\n",
    "    return jac"
   ]
  },
  {
   "cell_type": "code",
   "execution_count": 130,
   "id": "df255b66-2a66-4dd8-8e40-e9dd98511feb",
   "metadata": {
    "tags": []
   },
   "outputs": [],
   "source": [
    "jac,data,preds = grav_jacobian(   1.3704949 ,   1.36992368,   0.99993131, -20.,np.array(vacc_df['pop']), np.array(dist_mat),agg_mapping,inv_agg_mapping,va_commuter, return_data=True)\n",
    "#jac,data,preds = grav_jacobian(    1.48476602,   1.48419582,   0.99969819, -25.,np.array(vacc_df['pop']), np.array(dist_mat),agg_mapping,inv_agg_mapping,va_commuter, return_data=True)\n",
    "#jac, data, preds = grav_jacobian(2.2, 0.8, 1.6, 3.7300000000e-11,np.array(vacc_df['pop']), np.array(dist_mat),agg_mapping,inv_agg_mapping,va_commuter)"
   ]
  },
  {
   "cell_type": "code",
   "execution_count": 131,
   "id": "27041bb4-b469-4d8a-baf0-1cb59247eea2",
   "metadata": {},
   "outputs": [
    {
     "data": {
      "text/plain": [
       "(array([1.000e+00, 3.000e+00, 4.000e+00, 7.600e+01, 3.355e+03, 4.100e+01,\n",
       "        9.000e+00, 6.000e+00, 0.000e+00, 2.000e+00]),\n",
       " array([-47685.46244364, -36420.5258925 , -25155.58934136, -13890.65279022,\n",
       "         -2625.71623909,   8639.22031205,  19904.15686319,  31169.09341432,\n",
       "         42434.02996546,  53698.9665166 ,  64963.90306773]),\n",
       " <BarContainer object of 10 artists>)"
      ]
     },
     "execution_count": 131,
     "metadata": {},
     "output_type": "execute_result"
    },
    {
     "data": {
      "image/png": "[encoded data removed]",
      "text/plain": [
       "<Figure size 640x480 with 1 Axes>"
      ]
     },
     "metadata": {},
     "output_type": "display_data"
    }
   ],
   "source": [
    "plt.hist(np.array(data)-np.array(preds))"
   ]
  },
  {
   "cell_type": "code",
   "execution_count": 138,
   "id": "8640da0c-0e55-4e08-a8fc-fecf3bdf87f4",
   "metadata": {},
   "outputs": [
    {
     "data": {
      "text/plain": [
       "156325426.36792773"
      ]
     },
     "execution_count": 138,
     "metadata": {},
     "output_type": "execute_result"
    }
   ],
   "source": [
    "mse(grav_agg(1.3704949 ,   1.36992368,   0.99993131, np.exp(-20),agg_mapping), va_commuter, county_name_index)"
   ]
  },
  {
   "cell_type": "code",
   "execution_count": 38,
   "id": "4d46b3e3-6fd5-4faa-a227-41d4286dc38d",
   "metadata": {},
   "outputs": [
    {
     "data": {
      "text/plain": [
       "2926251.358657196"
      ]
     },
     "execution_count": 38,
     "metadata": {},
     "output_type": "execute_result"
    }
   ],
   "source": [
    "np.sum(np.abs(np.array(preds)-np.array(data)))"
   ]
  },
  {
   "cell_type": "code",
   "execution_count": 140,
   "id": "4c738935-495c-4216-8ee2-3d9faad20c35",
   "metadata": {},
   "outputs": [
    {
     "data": {
      "text/plain": [
       "array([[1.        , 0.80050788],\n",
       "       [0.80050788, 1.        ]])"
      ]
     },
     "execution_count": 140,
     "metadata": {},
     "output_type": "execute_result"
    }
   ],
   "source": [
    "np.corrcoef(preds,data)**2"
   ]
  },
  {
   "cell_type": "code",
   "execution_count": 40,
   "id": "cd1c7593-e2b3-476e-bd34-60a4a89f5ebb",
   "metadata": {},
   "outputs": [
    {
     "data": {
      "text/plain": [
       "3.059023205018258e-07"
      ]
     },
     "execution_count": 40,
     "metadata": {},
     "output_type": "execute_result"
    }
   ],
   "source": [
    "np.exp(-15)"
   ]
  },
  {
   "cell_type": "code",
   "execution_count": 47,
   "id": "612e930c-d717-4501-b408-fdb85bba77e1",
   "metadata": {
    "tags": []
   },
   "outputs": [
    {
     "ename": "NameError",
     "evalue": "name 'data' is not defined",
     "output_type": "error",
     "traceback": [
      "\u001b[0;31m---------------------------------------------------------------------------\u001b[0m",
      "\u001b[0;31mNameError\u001b[0m                                 Traceback (most recent call last)",
      "\u001b[0;32m/tmp/ipykernel_4221/3412892810.py\u001b[0m in \u001b[0;36m<cell line: 3>\u001b[0;34m()\u001b[0m\n\u001b[1;32m      1\u001b[0m \u001b[0;32mimport\u001b[0m \u001b[0mmatplotlib\u001b[0m\u001b[0;34m.\u001b[0m\u001b[0mpyplot\u001b[0m \u001b[0;32mas\u001b[0m \u001b[0mplt\u001b[0m\u001b[0;34m\u001b[0m\u001b[0;34m\u001b[0m\u001b[0m\n\u001b[1;32m      2\u001b[0m \u001b[0mplt\u001b[0m\u001b[0;34m.\u001b[0m\u001b[0mfigure\u001b[0m\u001b[0;34m(\u001b[0m\u001b[0;34m)\u001b[0m\u001b[0;34m\u001b[0m\u001b[0;34m\u001b[0m\u001b[0m\n\u001b[0;32m----> 3\u001b[0;31m \u001b[0mplt\u001b[0m\u001b[0;34m.\u001b[0m\u001b[0mscatter\u001b[0m\u001b[0;34m(\u001b[0m\u001b[0mdata\u001b[0m\u001b[0;34m,\u001b[0m\u001b[0mpreds\u001b[0m\u001b[0;34m,\u001b[0m\u001b[0malpha\u001b[0m\u001b[0;34m=\u001b[0m\u001b[0;36m0.5\u001b[0m\u001b[0;34m)\u001b[0m\u001b[0;34m\u001b[0m\u001b[0;34m\u001b[0m\u001b[0m\n\u001b[0m\u001b[1;32m      4\u001b[0m \u001b[0maxes\u001b[0m \u001b[0;34m=\u001b[0m \u001b[0mplt\u001b[0m\u001b[0;34m.\u001b[0m\u001b[0mgca\u001b[0m\u001b[0;34m(\u001b[0m\u001b[0;34m)\u001b[0m\u001b[0;34m\u001b[0m\u001b[0;34m\u001b[0m\u001b[0m\n\u001b[1;32m      5\u001b[0m \u001b[0;31m#axes.set_xlim([0,1])\u001b[0m\u001b[0;34m\u001b[0m\u001b[0;34m\u001b[0m\u001b[0m\n",
      "\u001b[0;31mNameError\u001b[0m: name 'data' is not defined"
     ]
    },
    {
     "data": {
      "text/plain": [
       "<Figure size 640x480 with 0 Axes>"
      ]
     },
     "metadata": {},
     "output_type": "display_data"
    }
   ],
   "source": [
    "import matplotlib.pyplot as plt\n",
    "plt.figure()\n",
    "plt.scatter(data,preds,alpha=0.5)\n",
    "axes = plt.gca()\n",
    "#axes.set_xlim([0,1])\n",
    "#axes.set_ylim([0,1000])\n",
    "def abline(slope, intercept):\n",
    "    \"\"\"Plot a line from slope and intercept\"\"\"\n",
    "    axes = plt.gca()\n",
    "    x_vals = np.array(axes.get_xlim())\n",
    "    y_vals = intercept + slope * x_vals\n",
    "    plt.plot(x_vals, y_vals, '--')\n",
    "abline(1,0)\n",
    "\n"
   ]
  },
  {
   "cell_type": "code",
   "execution_count": 47,
   "id": "1671d59b-1670-479a-b0bc-2abb5691f6bc",
   "metadata": {
    "tags": []
   },
   "outputs": [
    {
     "data": {
      "text/html": [
       "<div>\n",
       "<style scoped>\n",
       "    .dataframe tbody tr th:only-of-type {\n",
       "        vertical-align: middle;\n",
       "    }\n",
       "\n",
       "    .dataframe tbody tr th {\n",
       "        vertical-align: top;\n",
       "    }\n",
       "\n",
       "    .dataframe thead th {\n",
       "        text-align: right;\n",
       "    }\n",
       "</style>\n",
       "<table border=\"1\" class=\"dataframe\">\n",
       "  <thead>\n",
       "    <tr style=\"text-align: right;\">\n",
       "      <th></th>\n",
       "      <th>from</th>\n",
       "      <th>to</th>\n",
       "      <th>flow</th>\n",
       "      <th>error</th>\n",
       "    </tr>\n",
       "  </thead>\n",
       "  <tbody>\n",
       "    <tr>\n",
       "      <th>1</th>\n",
       "      <td>accomack_county</td>\n",
       "      <td>chesterfield_county</td>\n",
       "      <td>9.0</td>\n",
       "      <td>17.0</td>\n",
       "    </tr>\n",
       "    <tr>\n",
       "      <th>2</th>\n",
       "      <td>accomack_county</td>\n",
       "      <td>fairfax_county</td>\n",
       "      <td>29.0</td>\n",
       "      <td>32.0</td>\n",
       "    </tr>\n",
       "    <tr>\n",
       "      <th>3</th>\n",
       "      <td>accomack_county</td>\n",
       "      <td>nelson_county</td>\n",
       "      <td>23.0</td>\n",
       "      <td>34.0</td>\n",
       "    </tr>\n",
       "    <tr>\n",
       "      <th>5</th>\n",
       "      <td>accomack_county</td>\n",
       "      <td>shenandoah_county</td>\n",
       "      <td>7.0</td>\n",
       "      <td>12.0</td>\n",
       "    </tr>\n",
       "    <tr>\n",
       "      <th>6</th>\n",
       "      <td>accomack_county</td>\n",
       "      <td>charlottesville_city</td>\n",
       "      <td>9.0</td>\n",
       "      <td>17.0</td>\n",
       "    </tr>\n",
       "    <tr>\n",
       "      <th>...</th>\n",
       "      <td>...</td>\n",
       "      <td>...</td>\n",
       "      <td>...</td>\n",
       "      <td>...</td>\n",
       "    </tr>\n",
       "    <tr>\n",
       "      <th>3525</th>\n",
       "      <td>winchester_city</td>\n",
       "      <td>chesapeake_city</td>\n",
       "      <td>24.0</td>\n",
       "      <td>32.0</td>\n",
       "    </tr>\n",
       "    <tr>\n",
       "      <th>3526</th>\n",
       "      <td>winchester_city</td>\n",
       "      <td>fairfax_city</td>\n",
       "      <td>11.0</td>\n",
       "      <td>16.0</td>\n",
       "    </tr>\n",
       "    <tr>\n",
       "      <th>3527</th>\n",
       "      <td>winchester_city</td>\n",
       "      <td>hampton_city</td>\n",
       "      <td>17.0</td>\n",
       "      <td>30.0</td>\n",
       "    </tr>\n",
       "    <tr>\n",
       "      <th>3528</th>\n",
       "      <td>winchester_city</td>\n",
       "      <td>harrisonburg_city</td>\n",
       "      <td>11.0</td>\n",
       "      <td>17.0</td>\n",
       "    </tr>\n",
       "    <tr>\n",
       "      <th>3529</th>\n",
       "      <td>winchester_city</td>\n",
       "      <td>manassas_park_city</td>\n",
       "      <td>18.0</td>\n",
       "      <td>32.0</td>\n",
       "    </tr>\n",
       "  </tbody>\n",
       "</table>\n",
       "<p>3142 rows × 4 columns</p>\n",
       "</div>"
      ],
      "text/plain": [
       "                 from                    to  flow  error\n",
       "1     accomack_county   chesterfield_county   9.0   17.0\n",
       "2     accomack_county        fairfax_county  29.0   32.0\n",
       "3     accomack_county         nelson_county  23.0   34.0\n",
       "5     accomack_county     shenandoah_county   7.0   12.0\n",
       "6     accomack_county  charlottesville_city   9.0   17.0\n",
       "...               ...                   ...   ...    ...\n",
       "3525  winchester_city       chesapeake_city  24.0   32.0\n",
       "3526  winchester_city          fairfax_city  11.0   16.0\n",
       "3527  winchester_city          hampton_city  17.0   30.0\n",
       "3528  winchester_city     harrisonburg_city  11.0   17.0\n",
       "3529  winchester_city    manassas_park_city  18.0   32.0\n",
       "\n",
       "[3142 rows x 4 columns]"
      ]
     },
     "execution_count": 47,
     "metadata": {},
     "output_type": "execute_result"
    }
   ],
   "source": [
    "va_commuter[va_commuter['flow']< 1000]"
   ]
  },
  {
   "cell_type": "code",
   "execution_count": 36,
   "id": "da3ade10-8777-479f-8140-9d76dc4508eb",
   "metadata": {
    "tags": []
   },
   "outputs": [
    {
     "ename": "NameError",
     "evalue": "name 'gradient' is not defined",
     "output_type": "error",
     "traceback": [
      "\u001b[0;31m---------------------------------------------------------------------------\u001b[0m",
      "\u001b[0;31mNameError\u001b[0m                                 Traceback (most recent call last)",
      "\u001b[0;32m/tmp/ipykernel_21896/2256319960.py\u001b[0m in \u001b[0;36m<cell line: 1>\u001b[0;34m()\u001b[0m\n\u001b[0;32m----> 1\u001b[0;31m \u001b[0mgradient\u001b[0m\u001b[0;34m\u001b[0m\u001b[0;34m\u001b[0m\u001b[0m\n\u001b[0m",
      "\u001b[0;31mNameError\u001b[0m: name 'gradient' is not defined"
     ]
    }
   ],
   "source": [
    "gradient"
   ]
  },
  {
   "cell_type": "code",
   "execution_count": null,
   "id": "9c51d1dc-3b9b-4afa-8ab1-625b3305ea1f",
   "metadata": {},
   "outputs": [],
   "source": []
  },
  {
   "cell_type": "code",
   "execution_count": null,
   "id": "b644f329-0467-4586-b0dd-73aee71c1495",
   "metadata": {
    "tags": []
   },
   "outputs": [],
   "source": [
    "gradient, residuals = grav_jacobian(2.2, .796, 1.56, 3.73e-10,np.array(vacc_df['pop']), np.array(dist_mat),agg_mapping,inv_agg_mapping,va_commuter)"
   ]
  },
  {
   "cell_type": "code",
   "execution_count": null,
   "id": "0ca5d1de-9e23-4e63-a7b6-c2fc115cec80",
   "metadata": {
    "tags": []
   },
   "outputs": [],
   "source": [
    "import seaborn as sns\n",
    "sns.kdeplot(residuals)"
   ]
  },
  {
   "cell_type": "code",
   "execution_count": 50,
   "id": "8b4ba0e6-3721-4051-9066-8a298b0d880e",
   "metadata": {
    "tags": []
   },
   "outputs": [
    {
     "name": "stderr",
     "output_type": "stream",
     "text": [
      "/tmp/ipykernel_21896/2070504612.py:43: RuntimeWarning: overflow encountered in double_scalars\n",
      "  np.exp(log_theta)*(pop[zip_index_from]**tau1 * pop[zip_index_to]**tau2)/dist_mat[zip_index_from, zip_index_to]**rho\n",
      "/tmp/ipykernel_21896/2070504612.py:56: RuntimeWarning: invalid value encountered in matmul\n",
      "  partial_rho.append(np.array(grav_unsummed) @ np.array(rho_factor))\n",
      "/tmp/ipykernel_21896/2070504612.py:61: RuntimeWarning: invalid value encountered in matmul\n",
      "  (1/n)* np.array(residuals) @ np.array(partial_rho),\n"
     ]
    },
    {
     "data": {
      "text/plain": [
       "      fun: 437509.7443219364\n",
       " hess_inv: <4x4 LbfgsInvHessProduct with dtype=float64>\n",
       "      jac: array([-3.34594000e+07, -3.34056132e+07,  7.75034160e+05, -4.46968931e-05])\n",
       "  message: 'CONVERGENCE: REL_REDUCTION_OF_F_<=_FACTR*EPSMCH'\n",
       "     nfev: 16\n",
       "      nit: 2\n",
       "     njev: 16\n",
       "   status: 0\n",
       "  success: True\n",
       "        x: array([  1.48476602,   1.48419582,   0.99969819, -25.        ])"
      ]
     },
     "execution_count": 50,
     "metadata": {},
     "output_type": "execute_result"
    }
   ],
   "source": [
    "from scipy.optimize import minimize\n",
    "minimize(\n",
    "    fun = lambda x: mse(grav_agg(x[0],x[1],x[2],np.exp(x[3]),agg_mapping), va_commuter[va_commuter['flow']< 1000], county_name_index),\n",
    "    jac = lambda x: np.array(grav_jacobian(x[0],x[1],x[2],x[3],np.array(vacc_df['pop']), \n",
    "                                            np.array(dist_mat),agg_mapping,inv_agg_mapping,va_commuter)),\n",
    "    x0 = np.array([1, 1, 1, -25]),\n",
    "    method = \"L-BFGS-B\",\n",
    "    bounds = [\n",
    "        (0,None),\n",
    "        (0,None),\n",
    "        (0,None),\n",
    "        (None,None)\n",
    "    ]\n",
    ")"
   ]
  },
  {
   "cell_type": "code",
   "execution_count": 42,
   "id": "54501c17-3f98-484d-9980-66bc37e24a6c",
   "metadata": {},
   "outputs": [
    {
     "name": "stderr",
     "output_type": "stream",
     "text": [
      "/tmp/ipykernel_34351/2070504612.py:43: RuntimeWarning: overflow encountered in double_scalars\n",
      "  np.exp(log_theta)*(pop[zip_index_from]**tau1 * pop[zip_index_to]**tau2)/dist_mat[zip_index_from, zip_index_to]**rho\n",
      "/tmp/ipykernel_34351/2070504612.py:56: RuntimeWarning: invalid value encountered in matmul\n",
      "  partial_rho.append(np.array(grav_unsummed) @ np.array(rho_factor))\n",
      "/tmp/ipykernel_34351/2070504612.py:61: RuntimeWarning: invalid value encountered in matmul\n",
      "  (1/n)* np.array(residuals) @ np.array(partial_rho),\n"
     ]
    },
    {
     "data": {
      "text/plain": [
       "      fun: 159685794.59226522\n",
       " hess_inv: <4x4 LbfgsInvHessProduct with dtype=float64>\n",
       "      jac: array([-2.26175073e+05,  5.44180541e+05,  3.75548006e+05, -7.57788891e-07])\n",
       "  message: 'CONVERGENCE: REL_REDUCTION_OF_F_<=_FACTR*EPSMCH'\n",
       "     nfev: 37\n",
       "      nit: 6\n",
       "     njev: 37\n",
       "   status: 0\n",
       "  success: True\n",
       "        x: array([  1.61092363,   1.61000345,   0.99952051, -25.        ])"
      ]
     },
     "execution_count": 42,
     "metadata": {},
     "output_type": "execute_result"
    }
   ],
   "source": [
    "from scipy.optimize import minimize\n",
    "minimize(\n",
    "    fun = lambda x: mse(grav_agg(x[0],x[1],x[2],np.exp(x[3]),agg_mapping), va_commuter, county_name_index),\n",
    "    jac = lambda x: np.array(grav_jacobian(x[0],x[1],x[2],x[3],np.array(vacc_df['pop']), \n",
    "                                            np.array(dist_mat),agg_mapping,inv_agg_mapping,va_commuter)),\n",
    "    x0 = np.array([1, 1, 1, -25]),\n",
    "    method = \"L-BFGS-B\",\n",
    "    bounds = [\n",
    "        (0,None),\n",
    "        (0,None),\n",
    "        (0,None),\n",
    "        (None,None)\n",
    "    ]\n",
    ")"
   ]
  },
  {
   "cell_type": "code",
   "execution_count": 43,
   "id": "a5eccaab-6715-409e-a1ef-03b15e79a811",
   "metadata": {},
   "outputs": [
    {
     "name": "stderr",
     "output_type": "stream",
     "text": [
      "/tmp/ipykernel_34351/2070504612.py:43: RuntimeWarning: overflow encountered in double_scalars\n",
      "  np.exp(log_theta)*(pop[zip_index_from]**tau1 * pop[zip_index_to]**tau2)/dist_mat[zip_index_from, zip_index_to]**rho\n",
      "/tmp/ipykernel_34351/2070504612.py:56: RuntimeWarning: invalid value encountered in matmul\n",
      "  partial_rho.append(np.array(grav_unsummed) @ np.array(rho_factor))\n",
      "/tmp/ipykernel_34351/2070504612.py:61: RuntimeWarning: invalid value encountered in matmul\n",
      "  (1/n)* np.array(residuals) @ np.array(partial_rho),\n"
     ]
    },
    {
     "data": {
      "text/plain": [
       "      fun: 156325426.57628542\n",
       " hess_inv: <4x4 LbfgsInvHessProduct with dtype=float64>\n",
       "      jac: array([-3.19319206e+05,  3.87779712e+05,  3.50205453e+05,  3.64742112e-05])\n",
       "  message: 'CONVERGENCE: REL_REDUCTION_OF_F_<=_FACTR*EPSMCH'\n",
       "     nfev: 38\n",
       "      nit: 5\n",
       "     njev: 38\n",
       "   status: 0\n",
       "  success: True\n",
       "        x: array([  1.3704949 ,   1.36992368,   0.99993131, -20.        ])"
      ]
     },
     "execution_count": 43,
     "metadata": {},
     "output_type": "execute_result"
    }
   ],
   "source": [
    "from scipy.optimize import minimize\n",
    "minimize(\n",
    "    fun = lambda x: mse(grav_agg(x[0],x[1],x[2],np.exp(x[3]),agg_mapping), va_commuter, county_name_index),\n",
    "    jac = lambda x: np.array(grav_jacobian(x[0],x[1],x[2],x[3],np.array(vacc_df['pop']), \n",
    "                                            np.array(dist_mat),agg_mapping,inv_agg_mapping,va_commuter)),\n",
    "    x0 = np.array([1, 1, 1, -20]),\n",
    "    method = \"L-BFGS-B\",\n",
    "    bounds = [\n",
    "        (0,None),\n",
    "        (0,None),\n",
    "        (0,None),\n",
    "        (None,None)\n",
    "    ]\n",
    ")"
   ]
  },
  {
   "cell_type": "code",
   "execution_count": null,
   "id": "75efdc60-400b-453b-8c58-cd7f98e10578",
   "metadata": {},
   "outputs": [],
   "source": [
    "minimize(\n",
    "    fun = lambda x: mse(grav_agg(x[0],x[1],x[2],np.exp(x[3]),agg_mapping), va_commuter, county_name_index),\n",
    "    jac = lambda x: np.array(grav_jacobian(x[0],x[1],x[2],x[3],np.array(vacc_df['pop']), \n",
    "                                            np.array(dist_mat),agg_mapping,inv_agg_mapping,va_commuter)),\n",
    "    x0 = np.array([1, 1, 1, -20]),\n",
    "    method = \"L-BFGS-B\",\n",
    "    bounds = [\n",
    "        (0,None),\n",
    "        (0,None),\n",
    "        (0,None),\n",
    "        (None,None)\n",
    "    ]\n",
    "    ,options={'ftol':1e-10}\n",
    ")"
   ]
  },
  {
   "cell_type": "code",
   "execution_count": 45,
   "id": "62ff9da9-18c4-4659-826e-c5cc781be3e1",
   "metadata": {
    "tags": []
   },
   "outputs": [
    {
     "name": "stderr",
     "output_type": "stream",
     "text": [
      "/tmp/ipykernel_34351/2070504612.py:43: RuntimeWarning: overflow encountered in double_scalars\n",
      "  np.exp(log_theta)*(pop[zip_index_from]**tau1 * pop[zip_index_to]**tau2)/dist_mat[zip_index_from, zip_index_to]**rho\n",
      "/tmp/ipykernel_34351/2070504612.py:56: RuntimeWarning: invalid value encountered in matmul\n",
      "  partial_rho.append(np.array(grav_unsummed) @ np.array(rho_factor))\n",
      "/tmp/ipykernel_34351/2070504612.py:61: RuntimeWarning: invalid value encountered in matmul\n",
      "  (1/n)* np.array(residuals) @ np.array(partial_rho),\n"
     ]
    },
    {
     "data": {
      "text/plain": [
       "      fun: 161924980.58370838\n",
       " hess_inv: <4x4 LbfgsInvHessProduct with dtype=float64>\n",
       "      jac: array([-3.33567307e+05,  2.90498530e+05,  3.10528380e+05,  1.88876199e-02])\n",
       "  message: 'CONVERGENCE: REL_REDUCTION_OF_F_<=_FACTR*EPSMCH'\n",
       "     nfev: 54\n",
       "      nit: 5\n",
       "     njev: 54\n",
       "   status: 0\n",
       "  success: True\n",
       "        x: array([  1.12802691,   1.12753162,   0.99983554, -15.        ])"
      ]
     },
     "execution_count": 45,
     "metadata": {},
     "output_type": "execute_result"
    }
   ],
   "source": [
    "from scipy.optimize import minimize\n",
    "minimize(\n",
    "    fun = lambda x: mse(grav_agg(x[0],x[1],x[2],np.exp(x[3]),agg_mapping), va_commuter, county_name_index),\n",
    "    jac = lambda x: np.array(grav_jacobian(x[0],x[1],x[2],x[3],np.array(vacc_df['pop']), \n",
    "                                            np.array(dist_mat),agg_mapping,inv_agg_mapping,va_commuter)),\n",
    "    x0 = np.array([1, 1, 1, -15]),\n",
    "    method = \"L-BFGS-B\",\n",
    "    bounds = [\n",
    "        (0,None),\n",
    "        (0,None),\n",
    "        (0,None),\n",
    "        (None,None)\n",
    "    ]\n",
    ")"
   ]
  },
  {
   "cell_type": "code",
   "execution_count": 46,
   "id": "d3ce5c67-7e0c-47a4-833c-d2102a6c2a95",
   "metadata": {},
   "outputs": [
    {
     "name": "stderr",
     "output_type": "stream",
     "text": [
      "/tmp/ipykernel_34351/2070504612.py:43: RuntimeWarning: overflow encountered in double_scalars\n",
      "  np.exp(log_theta)*(pop[zip_index_from]**tau1 * pop[zip_index_to]**tau2)/dist_mat[zip_index_from, zip_index_to]**rho\n",
      "/tmp/ipykernel_34351/2070504612.py:52: RuntimeWarning: overflow encountered in double_scalars\n",
      "  -np.log(dist_mat[zip_index_from, zip_index_to])/dist_mat[zip_index_from, zip_index_to]**rho\n",
      "/tmp/ipykernel_34351/2070504612.py:43: RuntimeWarning: invalid value encountered in double_scalars\n",
      "  np.exp(log_theta)*(pop[zip_index_from]**tau1 * pop[zip_index_to]**tau2)/dist_mat[zip_index_from, zip_index_to]**rho\n",
      "/tmp/ipykernel_34351/2070504612.py:52: RuntimeWarning: divide by zero encountered in double_scalars\n",
      "  -np.log(dist_mat[zip_index_from, zip_index_to])/dist_mat[zip_index_from, zip_index_to]**rho\n"
     ]
    },
    {
     "data": {
      "text/plain": [
       "      fun: 358458222.8261204\n",
       " hess_inv: <4x4 LbfgsInvHessProduct with dtype=float64>\n",
       "      jac: array([ 3.71931941e+08,  3.72251478e+08, -3.05080876e+06,  1.66406177e+03])\n",
       "  message: 'CONVERGENCE: REL_REDUCTION_OF_F_<=_FACTR*EPSMCH'\n",
       "     nfev: 17\n",
       "      nit: 2\n",
       "     njev: 17\n",
       "   status: 0\n",
       "  success: True\n",
       "        x: array([  1.        ,   1.        ,   1.99999998, -10.00019556])"
      ]
     },
     "execution_count": 46,
     "metadata": {},
     "output_type": "execute_result"
    }
   ],
   "source": [
    "from scipy.optimize import minimize\n",
    "minimize(\n",
    "    fun = lambda x: mse(grav_agg(x[0],x[1],x[2],np.exp(x[3]),agg_mapping), va_commuter, county_name_index),\n",
    "    jac = lambda x: np.array(grav_jacobian(x[0],x[1],x[2],x[3],np.array(vacc_df['pop']), \n",
    "                                            np.array(dist_mat),agg_mapping,inv_agg_mapping,va_commuter)),\n",
    "    x0 = np.array([1, 1, 1, -10]),\n",
    "    method = \"L-BFGS-B\",\n",
    "    bounds = [\n",
    "        (0,None),\n",
    "        (0,None),\n",
    "        (0,None),\n",
    "        (None,None)\n",
    "    ]\n",
    ")"
   ]
  },
  {
   "cell_type": "code",
   "execution_count": 47,
   "id": "243a836f-2b4d-4195-8784-1f6718d5eb54",
   "metadata": {},
   "outputs": [
    {
     "data": {
      "text/plain": [
       "      fun: 29074442438383.812\n",
       " hess_inv: <4x4 LbfgsInvHessProduct with dtype=float64>\n",
       "      jac: array([ 2.24522911e+13,  2.24523385e+13, -1.57553516e+11,  1.44022525e+10])\n",
       "  message: 'CONVERGENCE: REL_REDUCTION_OF_F_<=_FACTR*EPSMCH'\n",
       "     nfev: 14\n",
       "      nit: 2\n",
       "     njev: 14\n",
       "   status: 0\n",
       "  success: True\n",
       "        x: array([ 1.        ,  1.        ,  1.99958144, -5.02892993])"
      ]
     },
     "execution_count": 47,
     "metadata": {},
     "output_type": "execute_result"
    }
   ],
   "source": [
    "from scipy.optimize import minimize\n",
    "minimize(\n",
    "    fun = lambda x: mse(grav_agg(x[0],x[1],x[2],np.exp(x[3]),agg_mapping), va_commuter, county_name_index),\n",
    "    jac = lambda x: np.array(grav_jacobian(x[0],x[1],x[2],x[3],np.array(vacc_df['pop']), \n",
    "                                            np.array(dist_mat),agg_mapping,inv_agg_mapping,va_commuter)),\n",
    "    x0 = np.array([1, 1, 1, -5]),\n",
    "    method = \"L-BFGS-B\",\n",
    "    bounds = [\n",
    "        (0,None),\n",
    "        (0,None),\n",
    "        (0,None),\n",
    "        (None,None)\n",
    "    ]\n",
    ")"
   ]
  },
  {
   "cell_type": "code",
   "execution_count": 56,
   "id": "4b5d790a-894c-4d59-a0e4-6444fa829fed",
   "metadata": {},
   "outputs": [
    {
     "data": {
      "text/plain": [
       "      fun: 231714567775.17957\n",
       " hess_inv: <4x4 LbfgsInvHessProduct with dtype=float64>\n",
       "      jac: array([ 1.89484984e+11,  1.89488049e+11, -1.27442279e+09,  5.61284785e+03])\n",
       "  message: 'CONVERGENCE: REL_REDUCTION_OF_F_<=_FACTR*EPSMCH'\n",
       "     nfev: 14\n",
       "      nit: 2\n",
       "     njev: 14\n",
       "   status: 0\n",
       "  success: True\n",
       "        x: array([  1.3704949 ,   1.36992368,   1.99993131, -15.00000132])"
      ]
     },
     "execution_count": 56,
     "metadata": {},
     "output_type": "execute_result"
    }
   ],
   "source": [
    "from scipy.optimize import minimize\n",
    "minimize(\n",
    "    fun = lambda x: mse(grav_agg(x[0],x[1],x[2],np.exp(x[3]),agg_mapping), va_commuter, county_name_index),\n",
    "    jac = lambda x: np.array(grav_jacobian(x[0],x[1],x[2],x[3],np.array(vacc_df['pop']), \n",
    "                                            np.array(dist_mat),agg_mapping,inv_agg_mapping,va_commuter)),\n",
    "    x0 = np.array( [1.3704949 ,   1.36992368,   0.99993131, -15.]),\n",
    "    method = \"L-BFGS-B\",\n",
    "    bounds = [\n",
    "        (0,None),\n",
    "        (0,None),\n",
    "        (0,None),\n",
    "        (None,None)\n",
    "    ],\n",
    "    options= {'ftol':1e-10}\n",
    ")"
   ]
  },
  {
   "cell_type": "code",
   "execution_count": null,
   "id": "e398674d-821d-439c-bd4a-496e7d02231c",
   "metadata": {},
   "outputs": [],
   "source": [
    "from scipy.optimize import minimize\n",
    "minimize(\n",
    "    fun = lambda x: mse(grav_agg(x[0],x[1],x[2],np.exp(x[3]),agg_mapping), va_commuter, county_name_index),\n",
    "    jac = lambda x: np.array(grav_jacobian(x[0],x[1],x[2],x[3],np.array(vacc_df['pop']), \n",
    "                                            np.array(dist_mat),agg_mapping,inv_agg_mapping,va_commuter)),\n",
    "    x0 = np.array([7.91523059e-01, 1.17685482e-02, 1.27603521e+00, -15]),\n",
    "    method = \"L-BFGS-B\",\n",
    "    bounds = [\n",
    "        (0,None),\n",
    "        (0,None),\n",
    "        (0,None),\n",
    "        (None,None)\n",
    "    ]\n",
    ")"
   ]
  },
  {
   "cell_type": "code",
   "execution_count": 38,
   "id": "4bfc0f75-64bc-48f2-871b-db0838d96ee1",
   "metadata": {},
   "outputs": [
    {
     "name": "stderr",
     "output_type": "stream",
     "text": [
      "/tmp/ipykernel_34351/2070504612.py:43: RuntimeWarning: overflow encountered in double_scalars\n",
      "  np.exp(log_theta)*(pop[zip_index_from]**tau1 * pop[zip_index_to]**tau2)/dist_mat[zip_index_from, zip_index_to]**rho\n",
      "/tmp/ipykernel_34351/2070504612.py:56: RuntimeWarning: invalid value encountered in matmul\n",
      "  partial_rho.append(np.array(grav_unsummed) @ np.array(rho_factor))\n",
      "/tmp/ipykernel_34351/2070504612.py:61: RuntimeWarning: invalid value encountered in matmul\n",
      "  (1/n)* np.array(residuals) @ np.array(partial_rho),\n"
     ]
    },
    {
     "data": {
      "text/plain": [
       "      fun: 161924980.58370838\n",
       " hess_inv: <4x4 LbfgsInvHessProduct with dtype=float64>\n",
       "      jac: array([-3.33567307e+05,  2.90498530e+05,  3.10528380e+05,  1.88876199e-02])\n",
       "  message: 'CONVERGENCE: REL_REDUCTION_OF_F_<=_FACTR*EPSMCH'\n",
       "     nfev: 54\n",
       "      nit: 5\n",
       "     njev: 54\n",
       "   status: 0\n",
       "  success: True\n",
       "        x: array([  1.12802691,   1.12753162,   0.99983554, -15.        ])"
      ]
     },
     "execution_count": 38,
     "metadata": {},
     "output_type": "execute_result"
    }
   ],
   "source": [
    "from scipy.optimize import minimize\n",
    "minimize(\n",
    "    fun = lambda x: mse(grav_agg(x[0],x[1],x[2],np.exp(x[3]),agg_mapping), va_commuter, county_name_index),\n",
    "    jac = lambda x: np.array(grav_jacobian(x[0],x[1],x[2],x[3],np.array(vacc_df['pop']), \n",
    "                                            np.array(dist_mat),agg_mapping,inv_agg_mapping,va_commuter)),\n",
    "    x0 = np.array([1, 1, 1, -15]),\n",
    "    method = \"L-BFGS-B\",\n",
    "    bounds = [\n",
    "        (0,None),\n",
    "        (0,None),\n",
    "        (0,None),\n",
    "        (None,None)\n",
    "    ]\n",
    ")"
   ]
  },
  {
   "cell_type": "code",
   "execution_count": 175,
   "id": "11df7fe7-e3a7-409a-9d6a-5f9c466c1387",
   "metadata": {},
   "outputs": [
    {
     "data": {
      "text/plain": [
       "      fun: 794006447.4778887\n",
       " hess_inv: <4x4 LbfgsInvHessProduct with dtype=float64>\n",
       "      jac: array([-7.33961099e-02, -7.12364092e-02,  1.08784196e-03, -7.39412288e-13])\n",
       "  message: 'CONVERGENCE: REL_REDUCTION_OF_F_<=_FACTR*EPSMCH'\n",
       "     nfev: 2\n",
       "      nit: 1\n",
       "     njev: 2\n",
       "   status: 0\n",
       "  success: True\n",
       "        x: array([  0.8274988 ,   0.04665027,   1.27550295, -23.        ])"
      ]
     },
     "execution_count": 175,
     "metadata": {},
     "output_type": "execute_result"
    }
   ],
   "source": [
    "from scipy.optimize import minimize\n",
    "minimize(\n",
    "    fun = lambda x: mse(grav_agg(x[0],x[1],x[2],np.exp(x[3]),agg_mapping), va_commuter, county_name_index),\n",
    "    jac = lambda x: np.array(grav_jacobian(x[0],x[1],x[2],x[3],np.array(vacc_df['pop']), \n",
    "                                            np.array(dist_mat),agg_mapping,inv_agg_mapping,va_commuter)),\n",
    "    x0 = np.array([7.91523059e-01, 1.17685482e-02, 1.27603521e+00, -23]),\n",
    "    method = \"L-BFGS-B\",\n",
    "    bounds = [\n",
    "        (0,None),\n",
    "        (0,None),\n",
    "        (0,None),\n",
    "        (None,None)\n",
    "    ]\n",
    ")"
   ]
  },
  {
   "cell_type": "code",
   "execution_count": 177,
   "id": "29cb46ee-6997-447b-b4e1-e8ad60373c45",
   "metadata": {},
   "outputs": [
    {
     "name": "stderr",
     "output_type": "stream",
     "text": [
      "/tmp/ipykernel_17350/2070504612.py:43: RuntimeWarning: overflow encountered in double_scalars\n",
      "  np.exp(log_theta)*(pop[zip_index_from]**tau1 * pop[zip_index_to]**tau2)/dist_mat[zip_index_from, zip_index_to]**rho\n",
      "/tmp/ipykernel_17350/2070504612.py:56: RuntimeWarning: invalid value encountered in matmul\n",
      "  partial_rho.append(np.array(grav_unsummed) @ np.array(rho_factor))\n",
      "/tmp/ipykernel_17350/2070504612.py:61: RuntimeWarning: invalid value encountered in matmul\n",
      "  (1/n)* np.array(residuals) @ np.array(partial_rho),\n"
     ]
    },
    {
     "data": {
      "text/plain": [
       "      fun: 161924980.58370838\n",
       " hess_inv: <4x4 LbfgsInvHessProduct with dtype=float64>\n",
       "      jac: array([-3.33567307e+05,  2.90498530e+05,  3.10528380e+05,  1.88876199e-02])\n",
       "  message: 'CONVERGENCE: REL_REDUCTION_OF_F_<=_FACTR*EPSMCH'\n",
       "     nfev: 54\n",
       "      nit: 5\n",
       "     njev: 54\n",
       "   status: 0\n",
       "  success: True\n",
       "        x: array([  1.12802691,   1.12753162,   0.99983554, -15.        ])"
      ]
     },
     "execution_count": 177,
     "metadata": {},
     "output_type": "execute_result"
    }
   ],
   "source": [
    "from scipy.optimize import minimize\n",
    "minimize(\n",
    "    fun = lambda x: mse(grav_agg(x[0],x[1],x[2],np.exp(x[3]),agg_mapping), va_commuter, county_name_index),\n",
    "    jac = lambda x: np.array(grav_jacobian(x[0],x[1],x[2],x[3],np.array(vacc_df['pop']), \n",
    "                                            np.array(dist_mat),agg_mapping,inv_agg_mapping,va_commuter)),\n",
    "    x0 = np.array([1, 1, 1, -15]),\n",
    "    method = \"L-BFGS-B\",\n",
    "    bounds = [\n",
    "        (0,None),\n",
    "        (0,None),\n",
    "        (0,None),\n",
    "        (None,None)\n",
    "    ]\n",
    ")"
   ]
  },
  {
   "cell_type": "code",
   "execution_count": 74,
   "id": "d4da81bc-867b-4e93-aa91-ad87277debc3",
   "metadata": {
    "tags": []
   },
   "outputs": [],
   "source": [
    "gradient, residuals = grav_jacobian(1.33072759e-01, 7.30060613e-01, 1.89965473e+00, 3.73000000e-10,np.array(vacc_df['pop']), np.array(dist_mat),agg_mapping,inv_agg_mapping,va_commuter)"
   ]
  },
  {
   "cell_type": "code",
   "execution_count": 75,
   "id": "8fac7fb3-be8a-4c4e-a6b4-d9b73fce6c7f",
   "metadata": {
    "tags": []
   },
   "outputs": [
    {
     "data": {
      "text/plain": [
       "[-9.941221880993435e+19,\n",
       " -137.55723604657703,\n",
       " -140.2878286439419,\n",
       " 1.0778291701475242]"
      ]
     },
     "execution_count": 75,
     "metadata": {},
     "output_type": "execute_result"
    }
   ],
   "source": [
    "gradient"
   ]
  },
  {
   "cell_type": "markdown",
   "id": "eb838663-53a2-41f4-b38f-38832b0b3206",
   "metadata": {},
   "source": [
    "try poisson regression at the county level for gravity."
   ]
  },
  {
   "cell_type": "code",
   "execution_count": 26,
   "id": "cb04a6fe-7f1b-4d75-9f3d-287fb0783e93",
   "metadata": {
    "tags": []
   },
   "outputs": [
    {
     "name": "stdout",
     "output_type": "stream",
     "text": [
      "[ 32402.  78281. 128601.   7936.  21830.  27460.  11593. 211497.  40695.\n",
      "   4581.  52542.  17043.   4125.  53403.  26161.  11567.  18262.   6765.\n",
      "   6191.  26666.  25998.  15287.   3824.  11502.  55727. 220796. 308987.\n",
      "  12292.  21527.  12025.   3292.  44192.   5631.  55825.   9761.  14272.\n",
      "  11161.   8855. 973456.  79400.  14748.  55553.   7687.  19317.  41412.\n",
      "  11865.  74306.  22584.  16069.  16614.  21430.  46411.   9471.  13308.\n",
      "  28487. 122619. 133233.  36946. 239776.  39397.   1710.  28286.  32829.\n",
      "  84946.  10007.  21127.   8552.   7372.  15486.  12170. 351813.  26725.\n",
      "   8367.  88741.  10361.  85204.  58244.  28017.   8180.  25175.   7542.\n",
      "  63116.  16728.  20060. 160852. 204584.  10357.  10382.   3933.  12176.\n",
      "  40070.  21671.  14753.  50253.  45258.  11122.  84394.  25175.  18914.\n",
      "  18990. 314921.  30421.  20416.  12058.   4777. 169797.  58538.  95775.\n",
      "  11129.  76553.  23042.  34222.  18733.  40193.  31963.  10293. 117480.\n",
      " 130621.  31581.  81784.   7643.  10773.  35802. 422025.  32294.  30977.\n",
      "  30162.  14751.   1193.  23270.  38334.  27988.  48103.]\n"
     ]
    }
   ],
   "source": [
    "pop_agg = np.zeros(133)\n",
    "for index, pop in enumerate(vacc_df['pop']):\n",
    "    pop_agg[agg_mapping[index]] += pop\n",
    "print(pop_agg)"
   ]
  },
  {
   "cell_type": "code",
   "execution_count": 27,
   "id": "f9f76169-1994-4c7b-b8f8-432a3c7753f7",
   "metadata": {
    "tags": []
   },
   "outputs": [],
   "source": [
    "va_commuter_filtered = va_commuter\n",
    "va_commuter_filtered = va_commuter_filtered[va_commuter_filtered['from'] != \"greensville_county\"]\n",
    "va_commuter_filtered = va_commuter_filtered[va_commuter_filtered['to'] != \"greensville_county\"]\n",
    "va_commuter_filtered = va_commuter_filtered[va_commuter_filtered['to'] != va_commuter_filtered['from']]"
   ]
  },
  {
   "cell_type": "code",
   "execution_count": 28,
   "id": "a071a496-fecc-4488-85e7-2d743e313c20",
   "metadata": {
    "tags": []
   },
   "outputs": [
    {
     "data": {
      "text/plain": [
       "1       accomack_county\n",
       "2       accomack_county\n",
       "3       accomack_county\n",
       "4       accomack_county\n",
       "5       accomack_county\n",
       "             ...       \n",
       "3525    winchester_city\n",
       "3526    winchester_city\n",
       "3527    winchester_city\n",
       "3528    winchester_city\n",
       "3529    winchester_city\n",
       "Name: from, Length: 3365, dtype: object"
      ]
     },
     "execution_count": 28,
     "metadata": {},
     "output_type": "execute_result"
    }
   ],
   "source": [
    "va_commuter_filtered['from']"
   ]
  },
  {
   "cell_type": "code",
   "execution_count": 29,
   "id": "e4c55e65-e532-4b02-9d12-6a22654da208",
   "metadata": {
    "tags": []
   },
   "outputs": [],
   "source": [
    "from_N = [pop_agg[county_name_index[county]] for county in va_commuter_filtered['from']]\n",
    "to_N = [pop_agg[county_name_index[county]] for county in va_commuter_filtered['from']]\n",
    "dist = [\n",
    "    dist_mat.iloc[county_name_index[county_from], county_name_index[county_to]] \n",
    "    for county_from,county_to \n",
    "    in zip(va_commuter_filtered['from'],\n",
    "           va_commuter_filtered['to'])\n",
    "]"
   ]
  },
  {
   "cell_type": "code",
   "execution_count": 51,
   "id": "6a01b1d3-ecca-4354-9299-01cf3ac95c04",
   "metadata": {
    "tags": []
   },
   "outputs": [],
   "source": [
    "log_from_N = np.log(np.array(from_N))\n",
    "log_to_N = np.log(np.array(to_N))\n",
    "neg_log_dist = -np.log(np.array(dist))\n",
    "\n",
    "X = np.concatenate([[log_from_N], [log_to_N], [neg_log_dist], [np.ones(len(log_from_N))]],axis=0).T\n",
    "\n",
    "non_log_X =  np.concatenate([[np.array(from_N)], [np.array(to_N)], [np.array(dist)], [np.ones(len(log_from_N))]],axis=0).T"
   ]
  },
  {
   "cell_type": "code",
   "execution_count": 31,
   "id": "6fb90d93-b06d-4b22-8574-b366d1378c40",
   "metadata": {
    "tags": []
   },
   "outputs": [
    {
     "data": {
      "text/plain": [
       "array([[10.38597543, 10.38597543, -3.52525512,  1.        ],\n",
       "       [10.38597543, 10.38597543, -3.22267627,  1.        ],\n",
       "       [10.38597543, 10.38597543, -0.90531039,  1.        ],\n",
       "       ...,\n",
       "       [10.05492026, 10.05492026, -4.3989191 ,  1.        ],\n",
       "       [10.05492026, 10.05492026, -4.4928469 ,  1.        ],\n",
       "       [10.05492026, 10.05492026, -4.42641445,  1.        ]])"
      ]
     },
     "execution_count": 31,
     "metadata": {},
     "output_type": "execute_result"
    }
   ],
   "source": [
    "X"
   ]
  },
  {
   "cell_type": "code",
   "execution_count": 32,
   "id": "3dbf780e-e8c1-4390-86dc-f84335ae1989",
   "metadata": {
    "tags": []
   },
   "outputs": [
    {
     "data": {
      "text/html": [
       "<style>#sk-container-id-1 {color: black;background-color: white;}#sk-container-id-1 pre{padding: 0;}#sk-container-id-1 div.sk-toggleable {background-color: white;}#sk-container-id-1 label.sk-toggleable__label {cursor: pointer;display: block;width: 100%;margin-bottom: 0;padding: 0.3em;box-sizing: border-box;text-align: center;}#sk-container-id-1 label.sk-toggleable__label-arrow:before {content: \"▸\";float: left;margin-right: 0.25em;color: #696969;}#sk-container-id-1 label.sk-toggleable__label-arrow:hover:before {color: black;}#sk-container-id-1 div.sk-estimator:hover label.sk-toggleable__label-arrow:before {color: black;}#sk-container-id-1 div.sk-toggleable__content {max-height: 0;max-width: 0;overflow: hidden;text-align: left;background-color: #f0f8ff;}#sk-container-id-1 div.sk-toggleable__content pre {margin: 0.2em;color: black;border-radius: 0.25em;background-color: #f0f8ff;}#sk-container-id-1 input.sk-toggleable__control:checked~div.sk-toggleable__content {max-height: 200px;max-width: 100%;overflow: auto;}#sk-container-id-1 input.sk-toggleable__control:checked~label.sk-toggleable__label-arrow:before {content: \"▾\";}#sk-container-id-1 div.sk-estimator input.sk-toggleable__control:checked~label.sk-toggleable__label {background-color: #d4ebff;}#sk-container-id-1 div.sk-label input.sk-toggleable__control:checked~label.sk-toggleable__label {background-color: #d4ebff;}#sk-container-id-1 input.sk-hidden--visually {border: 0;clip: rect(1px 1px 1px 1px);clip: rect(1px, 1px, 1px, 1px);height: 1px;margin: -1px;overflow: hidden;padding: 0;position: absolute;width: 1px;}#sk-container-id-1 div.sk-estimator {font-family: monospace;background-color: #f0f8ff;border: 1px dotted black;border-radius: 0.25em;box-sizing: border-box;margin-bottom: 0.5em;}#sk-container-id-1 div.sk-estimator:hover {background-color: #d4ebff;}#sk-container-id-1 div.sk-parallel-item::after {content: \"\";width: 100%;border-bottom: 1px solid gray;flex-grow: 1;}#sk-container-id-1 div.sk-label:hover label.sk-toggleable__label {background-color: #d4ebff;}#sk-container-id-1 div.sk-serial::before {content: \"\";position: absolute;border-left: 1px solid gray;box-sizing: border-box;top: 0;bottom: 0;left: 50%;z-index: 0;}#sk-container-id-1 div.sk-serial {display: flex;flex-direction: column;align-items: center;background-color: white;padding-right: 0.2em;padding-left: 0.2em;position: relative;}#sk-container-id-1 div.sk-item {position: relative;z-index: 1;}#sk-container-id-1 div.sk-parallel {display: flex;align-items: stretch;justify-content: center;background-color: white;position: relative;}#sk-container-id-1 div.sk-item::before, #sk-container-id-1 div.sk-parallel-item::before {content: \"\";position: absolute;border-left: 1px solid gray;box-sizing: border-box;top: 0;bottom: 0;left: 50%;z-index: -1;}#sk-container-id-1 div.sk-parallel-item {display: flex;flex-direction: column;z-index: 1;position: relative;background-color: white;}#sk-container-id-1 div.sk-parallel-item:first-child::after {align-self: flex-end;width: 50%;}#sk-container-id-1 div.sk-parallel-item:last-child::after {align-self: flex-start;width: 50%;}#sk-container-id-1 div.sk-parallel-item:only-child::after {width: 0;}#sk-container-id-1 div.sk-dashed-wrapped {border: 1px dashed gray;margin: 0 0.4em 0.5em 0.4em;box-sizing: border-box;padding-bottom: 0.4em;background-color: white;}#sk-container-id-1 div.sk-label label {font-family: monospace;font-weight: bold;display: inline-block;line-height: 1.2em;}#sk-container-id-1 div.sk-label-container {text-align: center;}#sk-container-id-1 div.sk-container {/* jupyter's `normalize.less` sets `[hidden] { display: none; }` but bootstrap.min.css set `[hidden] { display: none !important; }` so we also need the `!important` here to be able to override the default hidden behavior on the sphinx rendered scikit-learn.org. See: https://github.com/scikit-learn/scikit-learn/issues/21755 */display: inline-block !important;position: relative;}#sk-container-id-1 div.sk-text-repr-fallback {display: none;}</style><div id=\"sk-container-id-1\" class=\"sk-top-container\"><div class=\"sk-text-repr-fallback\"><pre>PoissonRegressor()</pre><b>In a Jupyter environment, please rerun this cell to show the HTML representation or trust the notebook. <br />On GitHub, the HTML representation is unable to render, please try loading this page with nbviewer.org.</b></div><div class=\"sk-container\" hidden><div class=\"sk-item\"><div class=\"sk-estimator sk-toggleable\"><input class=\"sk-toggleable__control sk-hidden--visually\" id=\"sk-estimator-id-1\" type=\"checkbox\" checked><label for=\"sk-estimator-id-1\" class=\"sk-toggleable__label sk-toggleable__label-arrow\">PoissonRegressor</label><div class=\"sk-toggleable__content\"><pre>PoissonRegressor()</pre></div></div></div></div></div>"
      ],
      "text/plain": [
       "PoissonRegressor()"
      ]
     },
     "execution_count": 32,
     "metadata": {},
     "output_type": "execute_result"
    }
   ],
   "source": [
    "from sklearn.linear_model import PoissonRegressor\n",
    "model = PoissonRegressor()\n",
    "model.fit(X,np.array(va_commuter_filtered['flow']))"
   ]
  },
  {
   "cell_type": "code",
   "execution_count": 33,
   "id": "afb0da5a-c820-45e7-9b90-e3c78992b62b",
   "metadata": {
    "tags": []
   },
   "outputs": [
    {
     "ename": "NameError",
     "evalue": "name 'abline' is not defined",
     "output_type": "error",
     "traceback": [
      "\u001b[0;31m---------------------------------------------------------------------------\u001b[0m",
      "\u001b[0;31mNameError\u001b[0m                                 Traceback (most recent call last)",
      "\u001b[0;32m/tmp/ipykernel_4221/2628737585.py\u001b[0m in \u001b[0;36m<cell line: 5>\u001b[0;34m()\u001b[0m\n\u001b[1;32m      3\u001b[0m \u001b[0;31m#axes.set_ylim([0,30000])\u001b[0m\u001b[0;34m\u001b[0m\u001b[0;34m\u001b[0m\u001b[0m\n\u001b[1;32m      4\u001b[0m \u001b[0mplt\u001b[0m\u001b[0;34m.\u001b[0m\u001b[0mscatter\u001b[0m\u001b[0;34m(\u001b[0m\u001b[0mnp\u001b[0m\u001b[0;34m.\u001b[0m\u001b[0marray\u001b[0m\u001b[0;34m(\u001b[0m\u001b[0mva_commuter_filtered\u001b[0m\u001b[0;34m[\u001b[0m\u001b[0;34m'flow'\u001b[0m\u001b[0;34m]\u001b[0m\u001b[0;34m)\u001b[0m\u001b[0;34m,\u001b[0m\u001b[0mmodel\u001b[0m\u001b[0;34m.\u001b[0m\u001b[0mpredict\u001b[0m\u001b[0;34m(\u001b[0m\u001b[0mX\u001b[0m\u001b[0;34m)\u001b[0m\u001b[0;34m,\u001b[0m\u001b[0malpha\u001b[0m\u001b[0;34m=\u001b[0m\u001b[0;36m0.1\u001b[0m\u001b[0;34m)\u001b[0m\u001b[0;34m\u001b[0m\u001b[0;34m\u001b[0m\u001b[0m\n\u001b[0;32m----> 5\u001b[0;31m \u001b[0mabline\u001b[0m\u001b[0;34m(\u001b[0m\u001b[0;36m1\u001b[0m\u001b[0;34m,\u001b[0m\u001b[0;36m0\u001b[0m\u001b[0;34m)\u001b[0m\u001b[0;34m\u001b[0m\u001b[0;34m\u001b[0m\u001b[0m\n\u001b[0m",
      "\u001b[0;31mNameError\u001b[0m: name 'abline' is not defined"
     ]
    },
    {
     "data": {
      "image/png": "[encoded data removed]",
      "text/plain": [
       "<Figure size 640x480 with 1 Axes>"
      ]
     },
     "metadata": {},
     "output_type": "display_data"
    }
   ],
   "source": [
    "axes=plt.gca()\n",
    "#axes.set_xlim([0,30000])\n",
    "#axes.set_ylim([0,30000])\n",
    "plt.scatter(np.array(va_commuter_filtered['flow']),model.predict(X),alpha=0.1)\n",
    "abline(1,0)\n"
   ]
  },
  {
   "cell_type": "code",
   "execution_count": 52,
   "id": "0aade43a-a7cc-42d4-bd7c-cf9466b35c1a",
   "metadata": {
    "tags": []
   },
   "outputs": [
    {
     "data": {
      "text/html": [
       "<style>#sk-container-id-5 {color: black;background-color: white;}#sk-container-id-5 pre{padding: 0;}#sk-container-id-5 div.sk-toggleable {background-color: white;}#sk-container-id-5 label.sk-toggleable__label {cursor: pointer;display: block;width: 100%;margin-bottom: 0;padding: 0.3em;box-sizing: border-box;text-align: center;}#sk-container-id-5 label.sk-toggleable__label-arrow:before {content: \"▸\";float: left;margin-right: 0.25em;color: #696969;}#sk-container-id-5 label.sk-toggleable__label-arrow:hover:before {color: black;}#sk-container-id-5 div.sk-estimator:hover label.sk-toggleable__label-arrow:before {color: black;}#sk-container-id-5 div.sk-toggleable__content {max-height: 0;max-width: 0;overflow: hidden;text-align: left;background-color: #f0f8ff;}#sk-container-id-5 div.sk-toggleable__content pre {margin: 0.2em;color: black;border-radius: 0.25em;background-color: #f0f8ff;}#sk-container-id-5 input.sk-toggleable__control:checked~div.sk-toggleable__content {max-height: 200px;max-width: 100%;overflow: auto;}#sk-container-id-5 input.sk-toggleable__control:checked~label.sk-toggleable__label-arrow:before {content: \"▾\";}#sk-container-id-5 div.sk-estimator input.sk-toggleable__control:checked~label.sk-toggleable__label {background-color: #d4ebff;}#sk-container-id-5 div.sk-label input.sk-toggleable__control:checked~label.sk-toggleable__label {background-color: #d4ebff;}#sk-container-id-5 input.sk-hidden--visually {border: 0;clip: rect(1px 1px 1px 1px);clip: rect(1px, 1px, 1px, 1px);height: 1px;margin: -1px;overflow: hidden;padding: 0;position: absolute;width: 1px;}#sk-container-id-5 div.sk-estimator {font-family: monospace;background-color: #f0f8ff;border: 1px dotted black;border-radius: 0.25em;box-sizing: border-box;margin-bottom: 0.5em;}#sk-container-id-5 div.sk-estimator:hover {background-color: #d4ebff;}#sk-container-id-5 div.sk-parallel-item::after {content: \"\";width: 100%;border-bottom: 1px solid gray;flex-grow: 1;}#sk-container-id-5 div.sk-label:hover label.sk-toggleable__label {background-color: #d4ebff;}#sk-container-id-5 div.sk-serial::before {content: \"\";position: absolute;border-left: 1px solid gray;box-sizing: border-box;top: 0;bottom: 0;left: 50%;z-index: 0;}#sk-container-id-5 div.sk-serial {display: flex;flex-direction: column;align-items: center;background-color: white;padding-right: 0.2em;padding-left: 0.2em;position: relative;}#sk-container-id-5 div.sk-item {position: relative;z-index: 1;}#sk-container-id-5 div.sk-parallel {display: flex;align-items: stretch;justify-content: center;background-color: white;position: relative;}#sk-container-id-5 div.sk-item::before, #sk-container-id-5 div.sk-parallel-item::before {content: \"\";position: absolute;border-left: 1px solid gray;box-sizing: border-box;top: 0;bottom: 0;left: 50%;z-index: -1;}#sk-container-id-5 div.sk-parallel-item {display: flex;flex-direction: column;z-index: 1;position: relative;background-color: white;}#sk-container-id-5 div.sk-parallel-item:first-child::after {align-self: flex-end;width: 50%;}#sk-container-id-5 div.sk-parallel-item:last-child::after {align-self: flex-start;width: 50%;}#sk-container-id-5 div.sk-parallel-item:only-child::after {width: 0;}#sk-container-id-5 div.sk-dashed-wrapped {border: 1px dashed gray;margin: 0 0.4em 0.5em 0.4em;box-sizing: border-box;padding-bottom: 0.4em;background-color: white;}#sk-container-id-5 div.sk-label label {font-family: monospace;font-weight: bold;display: inline-block;line-height: 1.2em;}#sk-container-id-5 div.sk-label-container {text-align: center;}#sk-container-id-5 div.sk-container {/* jupyter's `normalize.less` sets `[hidden] { display: none; }` but bootstrap.min.css set `[hidden] { display: none !important; }` so we also need the `!important` here to be able to override the default hidden behavior on the sphinx rendered scikit-learn.org. See: https://github.com/scikit-learn/scikit-learn/issues/21755 */display: inline-block !important;position: relative;}#sk-container-id-5 div.sk-text-repr-fallback {display: none;}</style><div id=\"sk-container-id-5\" class=\"sk-top-container\"><div class=\"sk-text-repr-fallback\"><pre>RandomForestRegressor()</pre><b>In a Jupyter environment, please rerun this cell to show the HTML representation or trust the notebook. <br />On GitHub, the HTML representation is unable to render, please try loading this page with nbviewer.org.</b></div><div class=\"sk-container\" hidden><div class=\"sk-item\"><div class=\"sk-estimator sk-toggleable\"><input class=\"sk-toggleable__control sk-hidden--visually\" id=\"sk-estimator-id-5\" type=\"checkbox\" checked><label for=\"sk-estimator-id-5\" class=\"sk-toggleable__label sk-toggleable__label-arrow\">RandomForestRegressor</label><div class=\"sk-toggleable__content\"><pre>RandomForestRegressor()</pre></div></div></div></div></div>"
      ],
      "text/plain": [
       "RandomForestRegressor()"
      ]
     },
     "execution_count": 52,
     "metadata": {},
     "output_type": "execute_result"
    }
   ],
   "source": [
    "from sklearn.ensemble import GradientBoostingRegressor\n",
    "from sklearn.ensemble import RandomForestRegressor\n",
    "model = RandomForestRegressor()\n",
    "\n",
    "model.fit(X,np.array(va_commuter_filtered['flow']))"
   ]
  },
  {
   "cell_type": "code",
   "execution_count": 56,
   "id": "ed5734cf-3b52-44a6-aad5-9bae7a9e9217",
   "metadata": {
    "tags": []
   },
   "outputs": [
    {
     "data": {
      "image/png": "[encoded data removed]",
      "text/plain": [
       "<Figure size 640x480 with 1 Axes>"
      ]
     },
     "metadata": {},
     "output_type": "display_data"
    }
   ],
   "source": [
    "\n",
    "axes=plt.gca()\n",
    "axes.set_xlim([0,1000])\n",
    "axes.set_ylim([0,1000])\n",
    "plt.scatter(np.array(va_commuter_filtered['flow']),model.predict(X),alpha=0.1)\n",
    "def abline(slope, intercept):\n",
    "    \"\"\"Plot a line from slope and intercept\"\"\"\n",
    "    axes = plt.gca()\n",
    "    x_vals = np.array(axes.get_xlim())\n",
    "    y_vals = intercept + slope * x_vals\n",
    "    plt.plot(x_vals, y_vals, '--')\n",
    "\n",
    "abline(1,0)"
   ]
  }
 ],
 "metadata": {
  "kernelspec": {
   "display_name": "Python 3 (ipykernel)",
   "language": "python",
   "name": "python3"
  },
  "language_info": {
   "codemirror_mode": {
    "name": "ipython",
    "version": 3
   },
   "file_extension": ".py",
   "mimetype": "text/x-python",
   "name": "python",
   "nbconvert_exporter": "python",
   "pygments_lexer": "ipython3",
   "version": "3.10.9"
  }
 },
 "nbformat": 4,
 "nbformat_minor": 5
}
